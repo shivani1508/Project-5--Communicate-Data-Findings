{
 "cells": [
  {
   "cell_type": "markdown",
   "metadata": {},
   "source": [
    "## Visualizing FordGo Bike Data\n",
    "### Comparison of first 3 months January, February and March of the year 2019 and year 2020.\n",
    "First 3 months of the year i.e. January, February and March are considered to be the winter months and hence I have made exploratory analysis for these months of the year 2019 and year 2020. The dataset used consists of the monthly trip data of the respective months in the CSV format."
   ]
  },
  {
   "cell_type": "code",
   "execution_count": 103,
   "metadata": {},
   "outputs": [],
   "source": [
    "# import all packages \n",
    "import numpy as np\n",
    "import pandas as pd\n",
    "import matplotlib.pyplot as plt\n",
    "import seaborn as sb\n",
    "import os\n",
    "import glob\n",
    "\n",
    "%matplotlib inline"
   ]
  },
  {
   "cell_type": "markdown",
   "metadata": {},
   "source": [
    "### Preliminary Data Wrangling"
   ]
  },
  {
   "cell_type": "code",
   "execution_count": 104,
   "metadata": {},
   "outputs": [
    {
     "name": "stderr",
     "output_type": "stream",
     "text": [
      "/Users/vrajpatel/opt/anaconda3/lib/python3.7/site-packages/IPython/core/interactiveshell.py:3063: DtypeWarning: Columns (13) have mixed types.Specify dtype option on import or set low_memory=False.\n",
      "  interactivity=interactivity, compiler=compiler, result=result)\n"
     ]
    }
   ],
   "source": [
    "#loading dataset for first 3 months of 2020\n",
    "df_2020_1= pd.read_csv(\"/Users/Shivani/Desktop/Bike Data 2020/202001-baywheels-tripdata.csv\")\n",
    "df_2020_2= pd.read_csv(\"/Users/Shivani/Desktop/Bike Data 2020/202002-baywheels-tripdata.csv\")\n",
    "df_2020_3= pd.read_csv(\"/Users/Shivani/Desktop/Bike Data 2020/202003-baywheels-tripdata.csv\")"
   ]
  },
  {
   "cell_type": "code",
   "execution_count": 105,
   "metadata": {},
   "outputs": [],
   "source": [
    "df_2020 = pd.concat([df_2020_1, df_2020_2, df_2020_3])"
   ]
  },
  {
   "cell_type": "code",
   "execution_count": 106,
   "metadata": {},
   "outputs": [],
   "source": [
    "#loading dataset for first 3 months of 2019\n",
    "df_2019_1= pd.read_csv(\"/Users/Shivani/Desktop/Bike Data 2020/201901-fordgobike-tripdata.csv\")\n",
    "df_2019_2= pd.read_csv(\"/Users/Shivani/Desktop/Bike Data 2020/201902-fordgobike-tripdata.csv\")\n",
    "df_2019_3= pd.read_csv(\"/Users/Shivani/Desktop/Bike Data 2020/201903-fordgobike-tripdata.csv\")"
   ]
  },
  {
   "cell_type": "code",
   "execution_count": 107,
   "metadata": {},
   "outputs": [],
   "source": [
    "df_2019 = pd.concat([df_2019_1, df_2019_2, df_2019_3])"
   ]
  },
  {
   "cell_type": "code",
   "execution_count": 108,
   "metadata": {},
   "outputs": [
    {
     "data": {
      "text/html": [
       "<div>\n",
       "<style scoped>\n",
       "    .dataframe tbody tr th:only-of-type {\n",
       "        vertical-align: middle;\n",
       "    }\n",
       "\n",
       "    .dataframe tbody tr th {\n",
       "        vertical-align: top;\n",
       "    }\n",
       "\n",
       "    .dataframe thead th {\n",
       "        text-align: right;\n",
       "    }\n",
       "</style>\n",
       "<table border=\"1\" class=\"dataframe\">\n",
       "  <thead>\n",
       "    <tr style=\"text-align: right;\">\n",
       "      <th></th>\n",
       "      <th>duration_sec</th>\n",
       "      <th>start_time</th>\n",
       "      <th>end_time</th>\n",
       "      <th>start_station_id</th>\n",
       "      <th>start_station_name</th>\n",
       "      <th>start_station_latitude</th>\n",
       "      <th>start_station_longitude</th>\n",
       "      <th>end_station_id</th>\n",
       "      <th>end_station_name</th>\n",
       "      <th>end_station_latitude</th>\n",
       "      <th>end_station_longitude</th>\n",
       "      <th>bike_id</th>\n",
       "      <th>user_type</th>\n",
       "      <th>rental_access_method</th>\n",
       "    </tr>\n",
       "  </thead>\n",
       "  <tbody>\n",
       "    <tr>\n",
       "      <th>0</th>\n",
       "      <td>83118</td>\n",
       "      <td>2020-01-31 15:23:47.7330</td>\n",
       "      <td>2020-02-01 14:29:06.2630</td>\n",
       "      <td>400.0</td>\n",
       "      <td>Buchanan St at North Point St</td>\n",
       "      <td>37.804272</td>\n",
       "      <td>-122.433537</td>\n",
       "      <td>400.0</td>\n",
       "      <td>Buchanan St at North Point St</td>\n",
       "      <td>37.804272</td>\n",
       "      <td>-122.433537</td>\n",
       "      <td>13052</td>\n",
       "      <td>Customer</td>\n",
       "      <td>NaN</td>\n",
       "    </tr>\n",
       "    <tr>\n",
       "      <th>1</th>\n",
       "      <td>68239</td>\n",
       "      <td>2020-01-31 15:40:31.6160</td>\n",
       "      <td>2020-02-01 10:37:51.0000</td>\n",
       "      <td>99.0</td>\n",
       "      <td>Folsom St at 15th St</td>\n",
       "      <td>37.767037</td>\n",
       "      <td>-122.415443</td>\n",
       "      <td>99.0</td>\n",
       "      <td>Folsom St at 15th St</td>\n",
       "      <td>37.767037</td>\n",
       "      <td>-122.415443</td>\n",
       "      <td>12235</td>\n",
       "      <td>Subscriber</td>\n",
       "      <td>NaN</td>\n",
       "    </tr>\n",
       "    <tr>\n",
       "      <th>2</th>\n",
       "      <td>55407</td>\n",
       "      <td>2020-01-31 17:48:16.6350</td>\n",
       "      <td>2020-02-01 09:11:44.3170</td>\n",
       "      <td>197.0</td>\n",
       "      <td>El Embarcadero at Grand Ave</td>\n",
       "      <td>37.808848</td>\n",
       "      <td>-122.249680</td>\n",
       "      <td>197.0</td>\n",
       "      <td>El Embarcadero at Grand Ave</td>\n",
       "      <td>37.808848</td>\n",
       "      <td>-122.249680</td>\n",
       "      <td>12822</td>\n",
       "      <td>Customer</td>\n",
       "      <td>NaN</td>\n",
       "    </tr>\n",
       "    <tr>\n",
       "      <th>3</th>\n",
       "      <td>54929</td>\n",
       "      <td>2020-01-31 17:53:03.4130</td>\n",
       "      <td>2020-02-01 09:08:32.6340</td>\n",
       "      <td>197.0</td>\n",
       "      <td>El Embarcadero at Grand Ave</td>\n",
       "      <td>37.808848</td>\n",
       "      <td>-122.249680</td>\n",
       "      <td>197.0</td>\n",
       "      <td>El Embarcadero at Grand Ave</td>\n",
       "      <td>37.808848</td>\n",
       "      <td>-122.249680</td>\n",
       "      <td>11705</td>\n",
       "      <td>Customer</td>\n",
       "      <td>NaN</td>\n",
       "    </tr>\n",
       "    <tr>\n",
       "      <th>4</th>\n",
       "      <td>55700</td>\n",
       "      <td>2020-01-31 17:12:33.4600</td>\n",
       "      <td>2020-02-01 08:40:53.6460</td>\n",
       "      <td>12.0</td>\n",
       "      <td>Pier 1/2 at The Embarcadero</td>\n",
       "      <td>37.796389</td>\n",
       "      <td>-122.394586</td>\n",
       "      <td>371.0</td>\n",
       "      <td>Lombard St at Columbus Ave</td>\n",
       "      <td>37.802746</td>\n",
       "      <td>-122.413579</td>\n",
       "      <td>3673</td>\n",
       "      <td>Customer</td>\n",
       "      <td>NaN</td>\n",
       "    </tr>\n",
       "  </tbody>\n",
       "</table>\n",
       "</div>"
      ],
      "text/plain": [
       "   duration_sec                start_time                  end_time  \\\n",
       "0         83118  2020-01-31 15:23:47.7330  2020-02-01 14:29:06.2630   \n",
       "1         68239  2020-01-31 15:40:31.6160  2020-02-01 10:37:51.0000   \n",
       "2         55407  2020-01-31 17:48:16.6350  2020-02-01 09:11:44.3170   \n",
       "3         54929  2020-01-31 17:53:03.4130  2020-02-01 09:08:32.6340   \n",
       "4         55700  2020-01-31 17:12:33.4600  2020-02-01 08:40:53.6460   \n",
       "\n",
       "   start_station_id             start_station_name  start_station_latitude  \\\n",
       "0             400.0  Buchanan St at North Point St               37.804272   \n",
       "1              99.0           Folsom St at 15th St               37.767037   \n",
       "2             197.0    El Embarcadero at Grand Ave               37.808848   \n",
       "3             197.0    El Embarcadero at Grand Ave               37.808848   \n",
       "4              12.0    Pier 1/2 at The Embarcadero               37.796389   \n",
       "\n",
       "   start_station_longitude  end_station_id               end_station_name  \\\n",
       "0              -122.433537           400.0  Buchanan St at North Point St   \n",
       "1              -122.415443            99.0           Folsom St at 15th St   \n",
       "2              -122.249680           197.0    El Embarcadero at Grand Ave   \n",
       "3              -122.249680           197.0    El Embarcadero at Grand Ave   \n",
       "4              -122.394586           371.0     Lombard St at Columbus Ave   \n",
       "\n",
       "   end_station_latitude  end_station_longitude  bike_id   user_type  \\\n",
       "0             37.804272            -122.433537    13052    Customer   \n",
       "1             37.767037            -122.415443    12235  Subscriber   \n",
       "2             37.808848            -122.249680    12822    Customer   \n",
       "3             37.808848            -122.249680    11705    Customer   \n",
       "4             37.802746            -122.413579     3673    Customer   \n",
       "\n",
       "  rental_access_method  \n",
       "0                  NaN  \n",
       "1                  NaN  \n",
       "2                  NaN  \n",
       "3                  NaN  \n",
       "4                  NaN  "
      ]
     },
     "execution_count": 108,
     "metadata": {},
     "output_type": "execute_result"
    }
   ],
   "source": [
    "df_2020.head()"
   ]
  },
  {
   "cell_type": "code",
   "execution_count": 109,
   "metadata": {},
   "outputs": [
    {
     "name": "stdout",
     "output_type": "stream",
     "text": [
      "<class 'pandas.core.frame.DataFrame'>\n",
      "Int64Index: 905007 entries, 0 to 176798\n",
      "Data columns (total 14 columns):\n",
      " #   Column                   Non-Null Count   Dtype  \n",
      "---  ------                   --------------   -----  \n",
      " 0   duration_sec             905007 non-null  int64  \n",
      " 1   start_time               905007 non-null  object \n",
      " 2   end_time                 905007 non-null  object \n",
      " 3   start_station_id         418705 non-null  float64\n",
      " 4   start_station_name       419938 non-null  object \n",
      " 5   start_station_latitude   905007 non-null  float64\n",
      " 6   start_station_longitude  905007 non-null  float64\n",
      " 7   end_station_id           419225 non-null  float64\n",
      " 8   end_station_name         420499 non-null  object \n",
      " 9   end_station_latitude     905007 non-null  float64\n",
      " 10  end_station_longitude    905007 non-null  float64\n",
      " 11  bike_id                  905007 non-null  int64  \n",
      " 12  user_type                905007 non-null  object \n",
      " 13  rental_access_method     617858 non-null  object \n",
      "dtypes: float64(6), int64(2), object(6)\n",
      "memory usage: 103.6+ MB\n"
     ]
    }
   ],
   "source": [
    "df_2020.info()"
   ]
  },
  {
   "cell_type": "code",
   "execution_count": 110,
   "metadata": {},
   "outputs": [
    {
     "data": {
      "text/html": [
       "<div>\n",
       "<style scoped>\n",
       "    .dataframe tbody tr th:only-of-type {\n",
       "        vertical-align: middle;\n",
       "    }\n",
       "\n",
       "    .dataframe tbody tr th {\n",
       "        vertical-align: top;\n",
       "    }\n",
       "\n",
       "    .dataframe thead th {\n",
       "        text-align: right;\n",
       "    }\n",
       "</style>\n",
       "<table border=\"1\" class=\"dataframe\">\n",
       "  <thead>\n",
       "    <tr style=\"text-align: right;\">\n",
       "      <th></th>\n",
       "      <th>duration_sec</th>\n",
       "      <th>start_time</th>\n",
       "      <th>end_time</th>\n",
       "      <th>start_station_id</th>\n",
       "      <th>start_station_name</th>\n",
       "      <th>start_station_latitude</th>\n",
       "      <th>start_station_longitude</th>\n",
       "      <th>end_station_id</th>\n",
       "      <th>end_station_name</th>\n",
       "      <th>end_station_latitude</th>\n",
       "      <th>end_station_longitude</th>\n",
       "      <th>bike_id</th>\n",
       "      <th>user_type</th>\n",
       "      <th>bike_share_for_all_trip</th>\n",
       "    </tr>\n",
       "  </thead>\n",
       "  <tbody>\n",
       "    <tr>\n",
       "      <th>0</th>\n",
       "      <td>80825</td>\n",
       "      <td>2019-01-31 17:57:44.6130</td>\n",
       "      <td>2019-02-01 16:24:49.8640</td>\n",
       "      <td>229.0</td>\n",
       "      <td>Foothill Blvd at 42nd Ave</td>\n",
       "      <td>37.775745</td>\n",
       "      <td>-122.213037</td>\n",
       "      <td>196.0</td>\n",
       "      <td>Grand Ave at Perkins St</td>\n",
       "      <td>37.808894</td>\n",
       "      <td>-122.256460</td>\n",
       "      <td>4861</td>\n",
       "      <td>Subscriber</td>\n",
       "      <td>No</td>\n",
       "    </tr>\n",
       "    <tr>\n",
       "      <th>1</th>\n",
       "      <td>65900</td>\n",
       "      <td>2019-01-31 20:58:33.8860</td>\n",
       "      <td>2019-02-01 15:16:54.1730</td>\n",
       "      <td>4.0</td>\n",
       "      <td>Cyril Magnin St at Ellis St</td>\n",
       "      <td>37.785881</td>\n",
       "      <td>-122.408915</td>\n",
       "      <td>134.0</td>\n",
       "      <td>Valencia St at 24th St</td>\n",
       "      <td>37.752428</td>\n",
       "      <td>-122.420628</td>\n",
       "      <td>5506</td>\n",
       "      <td>Subscriber</td>\n",
       "      <td>No</td>\n",
       "    </tr>\n",
       "    <tr>\n",
       "      <th>2</th>\n",
       "      <td>62633</td>\n",
       "      <td>2019-01-31 18:06:52.9240</td>\n",
       "      <td>2019-02-01 11:30:46.5300</td>\n",
       "      <td>245.0</td>\n",
       "      <td>Downtown Berkeley BART</td>\n",
       "      <td>37.870139</td>\n",
       "      <td>-122.268422</td>\n",
       "      <td>157.0</td>\n",
       "      <td>65th St at Hollis St</td>\n",
       "      <td>37.846784</td>\n",
       "      <td>-122.291376</td>\n",
       "      <td>2717</td>\n",
       "      <td>Customer</td>\n",
       "      <td>No</td>\n",
       "    </tr>\n",
       "    <tr>\n",
       "      <th>3</th>\n",
       "      <td>44680</td>\n",
       "      <td>2019-01-31 19:46:09.7190</td>\n",
       "      <td>2019-02-01 08:10:50.3180</td>\n",
       "      <td>85.0</td>\n",
       "      <td>Church St at Duboce Ave</td>\n",
       "      <td>37.770083</td>\n",
       "      <td>-122.429156</td>\n",
       "      <td>53.0</td>\n",
       "      <td>Grove St at Divisadero</td>\n",
       "      <td>37.775946</td>\n",
       "      <td>-122.437777</td>\n",
       "      <td>4557</td>\n",
       "      <td>Customer</td>\n",
       "      <td>No</td>\n",
       "    </tr>\n",
       "    <tr>\n",
       "      <th>4</th>\n",
       "      <td>60709</td>\n",
       "      <td>2019-01-31 14:19:01.5410</td>\n",
       "      <td>2019-02-01 07:10:51.0650</td>\n",
       "      <td>16.0</td>\n",
       "      <td>Steuart St at Market St</td>\n",
       "      <td>37.794130</td>\n",
       "      <td>-122.394430</td>\n",
       "      <td>28.0</td>\n",
       "      <td>The Embarcadero at Bryant St</td>\n",
       "      <td>37.787168</td>\n",
       "      <td>-122.388098</td>\n",
       "      <td>2100</td>\n",
       "      <td>Customer</td>\n",
       "      <td>No</td>\n",
       "    </tr>\n",
       "  </tbody>\n",
       "</table>\n",
       "</div>"
      ],
      "text/plain": [
       "   duration_sec                start_time                  end_time  \\\n",
       "0         80825  2019-01-31 17:57:44.6130  2019-02-01 16:24:49.8640   \n",
       "1         65900  2019-01-31 20:58:33.8860  2019-02-01 15:16:54.1730   \n",
       "2         62633  2019-01-31 18:06:52.9240  2019-02-01 11:30:46.5300   \n",
       "3         44680  2019-01-31 19:46:09.7190  2019-02-01 08:10:50.3180   \n",
       "4         60709  2019-01-31 14:19:01.5410  2019-02-01 07:10:51.0650   \n",
       "\n",
       "   start_station_id           start_station_name  start_station_latitude  \\\n",
       "0             229.0    Foothill Blvd at 42nd Ave               37.775745   \n",
       "1               4.0  Cyril Magnin St at Ellis St               37.785881   \n",
       "2             245.0       Downtown Berkeley BART               37.870139   \n",
       "3              85.0      Church St at Duboce Ave               37.770083   \n",
       "4              16.0      Steuart St at Market St               37.794130   \n",
       "\n",
       "   start_station_longitude  end_station_id              end_station_name  \\\n",
       "0              -122.213037           196.0       Grand Ave at Perkins St   \n",
       "1              -122.408915           134.0        Valencia St at 24th St   \n",
       "2              -122.268422           157.0          65th St at Hollis St   \n",
       "3              -122.429156            53.0        Grove St at Divisadero   \n",
       "4              -122.394430            28.0  The Embarcadero at Bryant St   \n",
       "\n",
       "   end_station_latitude  end_station_longitude  bike_id   user_type  \\\n",
       "0             37.808894            -122.256460     4861  Subscriber   \n",
       "1             37.752428            -122.420628     5506  Subscriber   \n",
       "2             37.846784            -122.291376     2717    Customer   \n",
       "3             37.775946            -122.437777     4557    Customer   \n",
       "4             37.787168            -122.388098     2100    Customer   \n",
       "\n",
       "  bike_share_for_all_trip  \n",
       "0                      No  \n",
       "1                      No  \n",
       "2                      No  \n",
       "3                      No  \n",
       "4                      No  "
      ]
     },
     "execution_count": 110,
     "metadata": {},
     "output_type": "execute_result"
    }
   ],
   "source": [
    "df_2019.head()"
   ]
  },
  {
   "cell_type": "code",
   "execution_count": 111,
   "metadata": {},
   "outputs": [
    {
     "name": "stdout",
     "output_type": "stream",
     "text": [
      "<class 'pandas.core.frame.DataFrame'>\n",
      "Int64Index: 631793 entries, 0 to 256298\n",
      "Data columns (total 14 columns):\n",
      " #   Column                   Non-Null Count   Dtype  \n",
      "---  ------                   --------------   -----  \n",
      " 0   duration_sec             631793 non-null  int64  \n",
      " 1   start_time               631793 non-null  object \n",
      " 2   end_time                 631793 non-null  object \n",
      " 3   start_station_id         631127 non-null  float64\n",
      " 4   start_station_name       631127 non-null  object \n",
      " 5   start_station_latitude   631793 non-null  float64\n",
      " 6   start_station_longitude  631793 non-null  float64\n",
      " 7   end_station_id           631127 non-null  float64\n",
      " 8   end_station_name         631127 non-null  object \n",
      " 9   end_station_latitude     631793 non-null  float64\n",
      " 10  end_station_longitude    631793 non-null  float64\n",
      " 11  bike_id                  631793 non-null  int64  \n",
      " 12  user_type                631793 non-null  object \n",
      " 13  bike_share_for_all_trip  631793 non-null  object \n",
      "dtypes: float64(6), int64(2), object(6)\n",
      "memory usage: 72.3+ MB\n"
     ]
    }
   ],
   "source": [
    "df_2019.info()"
   ]
  },
  {
   "cell_type": "markdown",
   "metadata": {},
   "source": [
    "To make both the dataset 2019 and 2020 same, some extra columns are to be deleted i.e rental_access_method from 2020 dataset and bike_share_for_all_trip for 2019 dataset."
   ]
  },
  {
   "cell_type": "code",
   "execution_count": 112,
   "metadata": {},
   "outputs": [],
   "source": [
    "del df_2020['rental_access_method']"
   ]
  },
  {
   "cell_type": "code",
   "execution_count": 113,
   "metadata": {},
   "outputs": [
    {
     "name": "stdout",
     "output_type": "stream",
     "text": [
      "<class 'pandas.core.frame.DataFrame'>\n",
      "Int64Index: 905007 entries, 0 to 176798\n",
      "Data columns (total 13 columns):\n",
      " #   Column                   Non-Null Count   Dtype  \n",
      "---  ------                   --------------   -----  \n",
      " 0   duration_sec             905007 non-null  int64  \n",
      " 1   start_time               905007 non-null  object \n",
      " 2   end_time                 905007 non-null  object \n",
      " 3   start_station_id         418705 non-null  float64\n",
      " 4   start_station_name       419938 non-null  object \n",
      " 5   start_station_latitude   905007 non-null  float64\n",
      " 6   start_station_longitude  905007 non-null  float64\n",
      " 7   end_station_id           419225 non-null  float64\n",
      " 8   end_station_name         420499 non-null  object \n",
      " 9   end_station_latitude     905007 non-null  float64\n",
      " 10  end_station_longitude    905007 non-null  float64\n",
      " 11  bike_id                  905007 non-null  int64  \n",
      " 12  user_type                905007 non-null  object \n",
      "dtypes: float64(6), int64(2), object(5)\n",
      "memory usage: 96.7+ MB\n"
     ]
    }
   ],
   "source": [
    "#test if delete was successful\n",
    "df_2020.info()"
   ]
  },
  {
   "cell_type": "code",
   "execution_count": 114,
   "metadata": {},
   "outputs": [],
   "source": [
    "del df_2019['bike_share_for_all_trip']"
   ]
  },
  {
   "cell_type": "code",
   "execution_count": 115,
   "metadata": {},
   "outputs": [
    {
     "name": "stdout",
     "output_type": "stream",
     "text": [
      "<class 'pandas.core.frame.DataFrame'>\n",
      "Int64Index: 631793 entries, 0 to 256298\n",
      "Data columns (total 13 columns):\n",
      " #   Column                   Non-Null Count   Dtype  \n",
      "---  ------                   --------------   -----  \n",
      " 0   duration_sec             631793 non-null  int64  \n",
      " 1   start_time               631793 non-null  object \n",
      " 2   end_time                 631793 non-null  object \n",
      " 3   start_station_id         631127 non-null  float64\n",
      " 4   start_station_name       631127 non-null  object \n",
      " 5   start_station_latitude   631793 non-null  float64\n",
      " 6   start_station_longitude  631793 non-null  float64\n",
      " 7   end_station_id           631127 non-null  float64\n",
      " 8   end_station_name         631127 non-null  object \n",
      " 9   end_station_latitude     631793 non-null  float64\n",
      " 10  end_station_longitude    631793 non-null  float64\n",
      " 11  bike_id                  631793 non-null  int64  \n",
      " 12  user_type                631793 non-null  object \n",
      "dtypes: float64(6), int64(2), object(5)\n",
      "memory usage: 67.5+ MB\n"
     ]
    }
   ],
   "source": [
    "#test if delete was successful\n",
    "df_2019.info()"
   ]
  },
  {
   "cell_type": "markdown",
   "metadata": {},
   "source": [
    "Now, after deletion of the columns both are dataset 2019 and 2020 are having identical column names. "
   ]
  },
  {
   "cell_type": "code",
   "execution_count": 116,
   "metadata": {},
   "outputs": [],
   "source": [
    "df_bikedata = pd.concat([df_2019 , df_2020])"
   ]
  },
  {
   "cell_type": "code",
   "execution_count": 117,
   "metadata": {},
   "outputs": [
    {
     "name": "stdout",
     "output_type": "stream",
     "text": [
      "<class 'pandas.core.frame.DataFrame'>\n",
      "Int64Index: 1536800 entries, 0 to 176798\n",
      "Data columns (total 13 columns):\n",
      " #   Column                   Non-Null Count    Dtype  \n",
      "---  ------                   --------------    -----  \n",
      " 0   duration_sec             1536800 non-null  int64  \n",
      " 1   start_time               1536800 non-null  object \n",
      " 2   end_time                 1536800 non-null  object \n",
      " 3   start_station_id         1049832 non-null  float64\n",
      " 4   start_station_name       1051065 non-null  object \n",
      " 5   start_station_latitude   1536800 non-null  float64\n",
      " 6   start_station_longitude  1536800 non-null  float64\n",
      " 7   end_station_id           1050352 non-null  float64\n",
      " 8   end_station_name         1051626 non-null  object \n",
      " 9   end_station_latitude     1536800 non-null  float64\n",
      " 10  end_station_longitude    1536800 non-null  float64\n",
      " 11  bike_id                  1536800 non-null  int64  \n",
      " 12  user_type                1536800 non-null  object \n",
      "dtypes: float64(6), int64(2), object(5)\n",
      "memory usage: 164.1+ MB\n"
     ]
    }
   ],
   "source": [
    "df_bikedata.info()"
   ]
  },
  {
   "cell_type": "code",
   "execution_count": 118,
   "metadata": {},
   "outputs": [
    {
     "data": {
      "text/plain": [
       "(1536800, 13)"
      ]
     },
     "execution_count": 118,
     "metadata": {},
     "output_type": "execute_result"
    }
   ],
   "source": [
    "df_bikedata.shape"
   ]
  },
  {
   "cell_type": "code",
   "execution_count": 119,
   "metadata": {},
   "outputs": [
    {
     "data": {
      "text/plain": [
       "duration_sec                    0\n",
       "start_time                      0\n",
       "end_time                        0\n",
       "start_station_id           486968\n",
       "start_station_name         485735\n",
       "start_station_latitude          0\n",
       "start_station_longitude         0\n",
       "end_station_id             486448\n",
       "end_station_name           485174\n",
       "end_station_latitude            0\n",
       "end_station_longitude           0\n",
       "bike_id                         0\n",
       "user_type                       0\n",
       "dtype: int64"
      ]
     },
     "execution_count": 119,
     "metadata": {},
     "output_type": "execute_result"
    }
   ],
   "source": [
    "#checking for null values\n",
    "df_bikedata.isnull().sum()"
   ]
  },
  {
   "cell_type": "code",
   "execution_count": 120,
   "metadata": {},
   "outputs": [
    {
     "data": {
      "text/plain": [
       "7512"
      ]
     },
     "execution_count": 120,
     "metadata": {},
     "output_type": "execute_result"
    }
   ],
   "source": [
    "##checking for duplicate values\n",
    "df_bikedata.duplicated().sum()"
   ]
  },
  {
   "cell_type": "code",
   "execution_count": 121,
   "metadata": {},
   "outputs": [
    {
     "data": {
      "text/plain": [
       "Subscriber    1096295\n",
       "Customer       440505\n",
       "Name: user_type, dtype: int64"
      ]
     },
     "execution_count": 121,
     "metadata": {},
     "output_type": "execute_result"
    }
   ],
   "source": [
    "df_bikedata.user_type.value_counts()"
   ]
  },
  {
   "cell_type": "code",
   "execution_count": 122,
   "metadata": {},
   "outputs": [
    {
     "data": {
      "text/html": [
       "<div>\n",
       "<style scoped>\n",
       "    .dataframe tbody tr th:only-of-type {\n",
       "        vertical-align: middle;\n",
       "    }\n",
       "\n",
       "    .dataframe tbody tr th {\n",
       "        vertical-align: top;\n",
       "    }\n",
       "\n",
       "    .dataframe thead th {\n",
       "        text-align: right;\n",
       "    }\n",
       "</style>\n",
       "<table border=\"1\" class=\"dataframe\">\n",
       "  <thead>\n",
       "    <tr style=\"text-align: right;\">\n",
       "      <th></th>\n",
       "      <th>duration_sec</th>\n",
       "      <th>start_time</th>\n",
       "      <th>end_time</th>\n",
       "      <th>start_station_id</th>\n",
       "      <th>start_station_name</th>\n",
       "      <th>start_station_latitude</th>\n",
       "      <th>start_station_longitude</th>\n",
       "      <th>end_station_id</th>\n",
       "      <th>end_station_name</th>\n",
       "      <th>end_station_latitude</th>\n",
       "      <th>end_station_longitude</th>\n",
       "      <th>bike_id</th>\n",
       "      <th>user_type</th>\n",
       "    </tr>\n",
       "  </thead>\n",
       "  <tbody>\n",
       "    <tr>\n",
       "      <th>220054</th>\n",
       "      <td>195</td>\n",
       "      <td>2020-02-12 09:26:26</td>\n",
       "      <td>2020-02-12 09:29:42</td>\n",
       "      <td>NaN</td>\n",
       "      <td>NaN</td>\n",
       "      <td>37.769068</td>\n",
       "      <td>-122.413398</td>\n",
       "      <td>NaN</td>\n",
       "      <td>NaN</td>\n",
       "      <td>37.767112</td>\n",
       "      <td>-122.406899</td>\n",
       "      <td>924495</td>\n",
       "      <td>Subscriber</td>\n",
       "    </tr>\n",
       "    <tr>\n",
       "      <th>27511</th>\n",
       "      <td>512</td>\n",
       "      <td>2020-01-24 10:55:01.1000</td>\n",
       "      <td>2020-01-24 11:03:33.4830</td>\n",
       "      <td>384.0</td>\n",
       "      <td>Jackson St at Polk St</td>\n",
       "      <td>37.794160</td>\n",
       "      <td>-122.421568</td>\n",
       "      <td>424.0</td>\n",
       "      <td>Greenwich St at Webster St</td>\n",
       "      <td>37.799208</td>\n",
       "      <td>-122.434122</td>\n",
       "      <td>10297</td>\n",
       "      <td>Customer</td>\n",
       "    </tr>\n",
       "    <tr>\n",
       "      <th>278131</th>\n",
       "      <td>511</td>\n",
       "      <td>2020-02-24 21:58:24</td>\n",
       "      <td>2020-02-24 22:06:56</td>\n",
       "      <td>NaN</td>\n",
       "      <td>NaN</td>\n",
       "      <td>37.776724</td>\n",
       "      <td>-122.438190</td>\n",
       "      <td>NaN</td>\n",
       "      <td>NaN</td>\n",
       "      <td>37.779752</td>\n",
       "      <td>-122.431877</td>\n",
       "      <td>430090</td>\n",
       "      <td>Subscriber</td>\n",
       "    </tr>\n",
       "    <tr>\n",
       "      <th>151591</th>\n",
       "      <td>213</td>\n",
       "      <td>2020-01-18 10:14:07</td>\n",
       "      <td>2020-01-18 10:17:41</td>\n",
       "      <td>NaN</td>\n",
       "      <td>NaN</td>\n",
       "      <td>37.761781</td>\n",
       "      <td>-122.420023</td>\n",
       "      <td>NaN</td>\n",
       "      <td>NaN</td>\n",
       "      <td>37.755461</td>\n",
       "      <td>-122.419391</td>\n",
       "      <td>445360</td>\n",
       "      <td>Subscriber</td>\n",
       "    </tr>\n",
       "    <tr>\n",
       "      <th>199037</th>\n",
       "      <td>398</td>\n",
       "      <td>2019-03-08 18:34:31.6900</td>\n",
       "      <td>2019-03-08 18:41:10.4360</td>\n",
       "      <td>256.0</td>\n",
       "      <td>Hearst Ave at Euclid Ave</td>\n",
       "      <td>37.875112</td>\n",
       "      <td>-122.260553</td>\n",
       "      <td>252.0</td>\n",
       "      <td>Channing Way at Shattuck Ave</td>\n",
       "      <td>37.865847</td>\n",
       "      <td>-122.267443</td>\n",
       "      <td>6000</td>\n",
       "      <td>Subscriber</td>\n",
       "    </tr>\n",
       "    <tr>\n",
       "      <th>177876</th>\n",
       "      <td>299</td>\n",
       "      <td>2020-02-01 17:44:04</td>\n",
       "      <td>2020-02-01 17:49:03</td>\n",
       "      <td>NaN</td>\n",
       "      <td>NaN</td>\n",
       "      <td>37.760998</td>\n",
       "      <td>-122.434171</td>\n",
       "      <td>NaN</td>\n",
       "      <td>NaN</td>\n",
       "      <td>37.760760</td>\n",
       "      <td>-122.426263</td>\n",
       "      <td>455043</td>\n",
       "      <td>Subscriber</td>\n",
       "    </tr>\n",
       "    <tr>\n",
       "      <th>46157</th>\n",
       "      <td>181</td>\n",
       "      <td>2020-02-19 16:37:45.2210</td>\n",
       "      <td>2020-02-19 16:40:47.0290</td>\n",
       "      <td>176.0</td>\n",
       "      <td>MacArthur BART Station</td>\n",
       "      <td>37.828410</td>\n",
       "      <td>-122.266315</td>\n",
       "      <td>192.0</td>\n",
       "      <td>37th St at West St</td>\n",
       "      <td>37.826696</td>\n",
       "      <td>-122.271797</td>\n",
       "      <td>12894</td>\n",
       "      <td>Customer</td>\n",
       "    </tr>\n",
       "    <tr>\n",
       "      <th>132590</th>\n",
       "      <td>353</td>\n",
       "      <td>2019-02-08 23:58:53.9600</td>\n",
       "      <td>2019-02-09 00:04:47.9050</td>\n",
       "      <td>176.0</td>\n",
       "      <td>MacArthur BART Station</td>\n",
       "      <td>37.828410</td>\n",
       "      <td>-122.266315</td>\n",
       "      <td>189.0</td>\n",
       "      <td>Genoa St at 55th St</td>\n",
       "      <td>37.839649</td>\n",
       "      <td>-122.271756</td>\n",
       "      <td>5042</td>\n",
       "      <td>Customer</td>\n",
       "    </tr>\n",
       "    <tr>\n",
       "      <th>155940</th>\n",
       "      <td>218</td>\n",
       "      <td>2019-01-08 18:09:35.5080</td>\n",
       "      <td>2019-01-08 18:13:13.5740</td>\n",
       "      <td>250.0</td>\n",
       "      <td>North Berkeley BART Station</td>\n",
       "      <td>37.873558</td>\n",
       "      <td>-122.283093</td>\n",
       "      <td>251.0</td>\n",
       "      <td>California St at University Ave</td>\n",
       "      <td>37.870555</td>\n",
       "      <td>-122.279720</td>\n",
       "      <td>1132</td>\n",
       "      <td>Subscriber</td>\n",
       "    </tr>\n",
       "    <tr>\n",
       "      <th>183605</th>\n",
       "      <td>471</td>\n",
       "      <td>2020-03-01 18:45:04</td>\n",
       "      <td>2020-03-01 18:52:56</td>\n",
       "      <td>NaN</td>\n",
       "      <td>NaN</td>\n",
       "      <td>37.762193</td>\n",
       "      <td>-122.414451</td>\n",
       "      <td>NaN</td>\n",
       "      <td>NaN</td>\n",
       "      <td>37.767576</td>\n",
       "      <td>-122.430561</td>\n",
       "      <td>148914</td>\n",
       "      <td>Subscriber</td>\n",
       "    </tr>\n",
       "  </tbody>\n",
       "</table>\n",
       "</div>"
      ],
      "text/plain": [
       "        duration_sec                start_time                  end_time  \\\n",
       "220054           195       2020-02-12 09:26:26       2020-02-12 09:29:42   \n",
       "27511            512  2020-01-24 10:55:01.1000  2020-01-24 11:03:33.4830   \n",
       "278131           511       2020-02-24 21:58:24       2020-02-24 22:06:56   \n",
       "151591           213       2020-01-18 10:14:07       2020-01-18 10:17:41   \n",
       "199037           398  2019-03-08 18:34:31.6900  2019-03-08 18:41:10.4360   \n",
       "177876           299       2020-02-01 17:44:04       2020-02-01 17:49:03   \n",
       "46157            181  2020-02-19 16:37:45.2210  2020-02-19 16:40:47.0290   \n",
       "132590           353  2019-02-08 23:58:53.9600  2019-02-09 00:04:47.9050   \n",
       "155940           218  2019-01-08 18:09:35.5080  2019-01-08 18:13:13.5740   \n",
       "183605           471       2020-03-01 18:45:04       2020-03-01 18:52:56   \n",
       "\n",
       "        start_station_id           start_station_name  start_station_latitude  \\\n",
       "220054               NaN                          NaN               37.769068   \n",
       "27511              384.0        Jackson St at Polk St               37.794160   \n",
       "278131               NaN                          NaN               37.776724   \n",
       "151591               NaN                          NaN               37.761781   \n",
       "199037             256.0     Hearst Ave at Euclid Ave               37.875112   \n",
       "177876               NaN                          NaN               37.760998   \n",
       "46157              176.0       MacArthur BART Station               37.828410   \n",
       "132590             176.0       MacArthur BART Station               37.828410   \n",
       "155940             250.0  North Berkeley BART Station               37.873558   \n",
       "183605               NaN                          NaN               37.762193   \n",
       "\n",
       "        start_station_longitude  end_station_id  \\\n",
       "220054              -122.413398             NaN   \n",
       "27511               -122.421568           424.0   \n",
       "278131              -122.438190             NaN   \n",
       "151591              -122.420023             NaN   \n",
       "199037              -122.260553           252.0   \n",
       "177876              -122.434171             NaN   \n",
       "46157               -122.266315           192.0   \n",
       "132590              -122.266315           189.0   \n",
       "155940              -122.283093           251.0   \n",
       "183605              -122.414451             NaN   \n",
       "\n",
       "                       end_station_name  end_station_latitude  \\\n",
       "220054                              NaN             37.767112   \n",
       "27511        Greenwich St at Webster St             37.799208   \n",
       "278131                              NaN             37.779752   \n",
       "151591                              NaN             37.755461   \n",
       "199037     Channing Way at Shattuck Ave             37.865847   \n",
       "177876                              NaN             37.760760   \n",
       "46157                37th St at West St             37.826696   \n",
       "132590              Genoa St at 55th St             37.839649   \n",
       "155940  California St at University Ave             37.870555   \n",
       "183605                              NaN             37.767576   \n",
       "\n",
       "        end_station_longitude  bike_id   user_type  \n",
       "220054            -122.406899   924495  Subscriber  \n",
       "27511             -122.434122    10297    Customer  \n",
       "278131            -122.431877   430090  Subscriber  \n",
       "151591            -122.419391   445360  Subscriber  \n",
       "199037            -122.267443     6000  Subscriber  \n",
       "177876            -122.426263   455043  Subscriber  \n",
       "46157             -122.271797    12894    Customer  \n",
       "132590            -122.271756     5042    Customer  \n",
       "155940            -122.279720     1132  Subscriber  \n",
       "183605            -122.430561   148914  Subscriber  "
      ]
     },
     "execution_count": 122,
     "metadata": {},
     "output_type": "execute_result"
    }
   ],
   "source": [
    "df_bikedata.sample(10)"
   ]
  },
  {
   "cell_type": "markdown",
   "metadata": {},
   "source": [
    "### Cleaning Data"
   ]
  },
  {
   "cell_type": "code",
   "execution_count": 123,
   "metadata": {},
   "outputs": [],
   "source": [
    "## make a copy of the dataframe\n",
    "df_bike_clean = df_bikedata.copy()"
   ]
  },
  {
   "cell_type": "code",
   "execution_count": 124,
   "metadata": {},
   "outputs": [
    {
     "name": "stdout",
     "output_type": "stream",
     "text": [
      "<class 'pandas.core.frame.DataFrame'>\n",
      "Int64Index: 1536800 entries, 0 to 176798\n",
      "Data columns (total 13 columns):\n",
      " #   Column                   Non-Null Count    Dtype  \n",
      "---  ------                   --------------    -----  \n",
      " 0   duration_sec             1536800 non-null  int64  \n",
      " 1   start_time               1536800 non-null  object \n",
      " 2   end_time                 1536800 non-null  object \n",
      " 3   start_station_id         1049832 non-null  float64\n",
      " 4   start_station_name       1051065 non-null  object \n",
      " 5   start_station_latitude   1536800 non-null  float64\n",
      " 6   start_station_longitude  1536800 non-null  float64\n",
      " 7   end_station_id           1050352 non-null  float64\n",
      " 8   end_station_name         1051626 non-null  object \n",
      " 9   end_station_latitude     1536800 non-null  float64\n",
      " 10  end_station_longitude    1536800 non-null  float64\n",
      " 11  bike_id                  1536800 non-null  int64  \n",
      " 12  user_type                1536800 non-null  object \n",
      "dtypes: float64(6), int64(2), object(5)\n",
      "memory usage: 164.1+ MB\n"
     ]
    }
   ],
   "source": [
    "df_bike_clean.info()"
   ]
  },
  {
   "cell_type": "code",
   "execution_count": 125,
   "metadata": {},
   "outputs": [],
   "source": [
    "# replace the value 'None' with the NaN (missing value)\n",
    "df_bike_clean = df_bike_clean.replace('None', np.nan)"
   ]
  },
  {
   "cell_type": "code",
   "execution_count": 126,
   "metadata": {},
   "outputs": [
    {
     "data": {
      "text/html": [
       "<div>\n",
       "<style scoped>\n",
       "    .dataframe tbody tr th:only-of-type {\n",
       "        vertical-align: middle;\n",
       "    }\n",
       "\n",
       "    .dataframe tbody tr th {\n",
       "        vertical-align: top;\n",
       "    }\n",
       "\n",
       "    .dataframe thead th {\n",
       "        text-align: right;\n",
       "    }\n",
       "</style>\n",
       "<table border=\"1\" class=\"dataframe\">\n",
       "  <thead>\n",
       "    <tr style=\"text-align: right;\">\n",
       "      <th></th>\n",
       "      <th>duration_sec</th>\n",
       "      <th>start_time</th>\n",
       "      <th>end_time</th>\n",
       "      <th>start_station_id</th>\n",
       "      <th>start_station_name</th>\n",
       "      <th>start_station_latitude</th>\n",
       "      <th>start_station_longitude</th>\n",
       "      <th>end_station_id</th>\n",
       "      <th>end_station_name</th>\n",
       "      <th>end_station_latitude</th>\n",
       "      <th>end_station_longitude</th>\n",
       "      <th>bike_id</th>\n",
       "      <th>user_type</th>\n",
       "    </tr>\n",
       "  </thead>\n",
       "  <tbody>\n",
       "    <tr>\n",
       "      <th>0</th>\n",
       "      <td>80825</td>\n",
       "      <td>2019-01-31 17:57:44.6130</td>\n",
       "      <td>2019-02-01 16:24:49.8640</td>\n",
       "      <td>229.0</td>\n",
       "      <td>Foothill Blvd at 42nd Ave</td>\n",
       "      <td>37.775745</td>\n",
       "      <td>-122.213037</td>\n",
       "      <td>196.0</td>\n",
       "      <td>Grand Ave at Perkins St</td>\n",
       "      <td>37.808894</td>\n",
       "      <td>-122.256460</td>\n",
       "      <td>4861</td>\n",
       "      <td>Subscriber</td>\n",
       "    </tr>\n",
       "    <tr>\n",
       "      <th>1</th>\n",
       "      <td>65900</td>\n",
       "      <td>2019-01-31 20:58:33.8860</td>\n",
       "      <td>2019-02-01 15:16:54.1730</td>\n",
       "      <td>4.0</td>\n",
       "      <td>Cyril Magnin St at Ellis St</td>\n",
       "      <td>37.785881</td>\n",
       "      <td>-122.408915</td>\n",
       "      <td>134.0</td>\n",
       "      <td>Valencia St at 24th St</td>\n",
       "      <td>37.752428</td>\n",
       "      <td>-122.420628</td>\n",
       "      <td>5506</td>\n",
       "      <td>Subscriber</td>\n",
       "    </tr>\n",
       "    <tr>\n",
       "      <th>2</th>\n",
       "      <td>62633</td>\n",
       "      <td>2019-01-31 18:06:52.9240</td>\n",
       "      <td>2019-02-01 11:30:46.5300</td>\n",
       "      <td>245.0</td>\n",
       "      <td>Downtown Berkeley BART</td>\n",
       "      <td>37.870139</td>\n",
       "      <td>-122.268422</td>\n",
       "      <td>157.0</td>\n",
       "      <td>65th St at Hollis St</td>\n",
       "      <td>37.846784</td>\n",
       "      <td>-122.291376</td>\n",
       "      <td>2717</td>\n",
       "      <td>Customer</td>\n",
       "    </tr>\n",
       "    <tr>\n",
       "      <th>3</th>\n",
       "      <td>44680</td>\n",
       "      <td>2019-01-31 19:46:09.7190</td>\n",
       "      <td>2019-02-01 08:10:50.3180</td>\n",
       "      <td>85.0</td>\n",
       "      <td>Church St at Duboce Ave</td>\n",
       "      <td>37.770083</td>\n",
       "      <td>-122.429156</td>\n",
       "      <td>53.0</td>\n",
       "      <td>Grove St at Divisadero</td>\n",
       "      <td>37.775946</td>\n",
       "      <td>-122.437777</td>\n",
       "      <td>4557</td>\n",
       "      <td>Customer</td>\n",
       "    </tr>\n",
       "    <tr>\n",
       "      <th>4</th>\n",
       "      <td>60709</td>\n",
       "      <td>2019-01-31 14:19:01.5410</td>\n",
       "      <td>2019-02-01 07:10:51.0650</td>\n",
       "      <td>16.0</td>\n",
       "      <td>Steuart St at Market St</td>\n",
       "      <td>37.794130</td>\n",
       "      <td>-122.394430</td>\n",
       "      <td>28.0</td>\n",
       "      <td>The Embarcadero at Bryant St</td>\n",
       "      <td>37.787168</td>\n",
       "      <td>-122.388098</td>\n",
       "      <td>2100</td>\n",
       "      <td>Customer</td>\n",
       "    </tr>\n",
       "    <tr>\n",
       "      <th>...</th>\n",
       "      <td>...</td>\n",
       "      <td>...</td>\n",
       "      <td>...</td>\n",
       "      <td>...</td>\n",
       "      <td>...</td>\n",
       "      <td>...</td>\n",
       "      <td>...</td>\n",
       "      <td>...</td>\n",
       "      <td>...</td>\n",
       "      <td>...</td>\n",
       "      <td>...</td>\n",
       "      <td>...</td>\n",
       "      <td>...</td>\n",
       "    </tr>\n",
       "    <tr>\n",
       "      <th>176794</th>\n",
       "      <td>61</td>\n",
       "      <td>2020-04-01 10:42:35</td>\n",
       "      <td>2020-04-01 10:43:37</td>\n",
       "      <td>NaN</td>\n",
       "      <td>NaN</td>\n",
       "      <td>37.848493</td>\n",
       "      <td>-122.265797</td>\n",
       "      <td>NaN</td>\n",
       "      <td>NaN</td>\n",
       "      <td>37.848476</td>\n",
       "      <td>-122.265779</td>\n",
       "      <td>999960</td>\n",
       "      <td>Subscriber</td>\n",
       "    </tr>\n",
       "    <tr>\n",
       "      <th>176795</th>\n",
       "      <td>78</td>\n",
       "      <td>2020-03-18 17:10:42</td>\n",
       "      <td>2020-03-18 17:12:01</td>\n",
       "      <td>NaN</td>\n",
       "      <td>NaN</td>\n",
       "      <td>37.848499</td>\n",
       "      <td>-122.265794</td>\n",
       "      <td>NaN</td>\n",
       "      <td>NaN</td>\n",
       "      <td>37.848477</td>\n",
       "      <td>-122.265815</td>\n",
       "      <td>999960</td>\n",
       "      <td>Subscriber</td>\n",
       "    </tr>\n",
       "    <tr>\n",
       "      <th>176796</th>\n",
       "      <td>122</td>\n",
       "      <td>2020-04-01 13:32:28</td>\n",
       "      <td>2020-04-01 13:34:31</td>\n",
       "      <td>NaN</td>\n",
       "      <td>NaN</td>\n",
       "      <td>37.848507</td>\n",
       "      <td>-122.266010</td>\n",
       "      <td>NaN</td>\n",
       "      <td>NaN</td>\n",
       "      <td>37.848485</td>\n",
       "      <td>-122.266063</td>\n",
       "      <td>633095</td>\n",
       "      <td>Subscriber</td>\n",
       "    </tr>\n",
       "    <tr>\n",
       "      <th>176797</th>\n",
       "      <td>340</td>\n",
       "      <td>2020-04-01 13:07:34</td>\n",
       "      <td>2020-04-01 13:13:14</td>\n",
       "      <td>NaN</td>\n",
       "      <td>NaN</td>\n",
       "      <td>37.848530</td>\n",
       "      <td>-122.266013</td>\n",
       "      <td>NaN</td>\n",
       "      <td>NaN</td>\n",
       "      <td>37.848497</td>\n",
       "      <td>-122.266029</td>\n",
       "      <td>633095</td>\n",
       "      <td>Subscriber</td>\n",
       "    </tr>\n",
       "    <tr>\n",
       "      <th>176798</th>\n",
       "      <td>333</td>\n",
       "      <td>2020-03-23 16:39:57</td>\n",
       "      <td>2020-03-23 16:45:30</td>\n",
       "      <td>NaN</td>\n",
       "      <td>NaN</td>\n",
       "      <td>37.848625</td>\n",
       "      <td>-122.266660</td>\n",
       "      <td>NaN</td>\n",
       "      <td>NaN</td>\n",
       "      <td>37.848446</td>\n",
       "      <td>-122.266022</td>\n",
       "      <td>633095</td>\n",
       "      <td>Subscriber</td>\n",
       "    </tr>\n",
       "  </tbody>\n",
       "</table>\n",
       "<p>1521776 rows × 13 columns</p>\n",
       "</div>"
      ],
      "text/plain": [
       "        duration_sec                start_time                  end_time  \\\n",
       "0              80825  2019-01-31 17:57:44.6130  2019-02-01 16:24:49.8640   \n",
       "1              65900  2019-01-31 20:58:33.8860  2019-02-01 15:16:54.1730   \n",
       "2              62633  2019-01-31 18:06:52.9240  2019-02-01 11:30:46.5300   \n",
       "3              44680  2019-01-31 19:46:09.7190  2019-02-01 08:10:50.3180   \n",
       "4              60709  2019-01-31 14:19:01.5410  2019-02-01 07:10:51.0650   \n",
       "...              ...                       ...                       ...   \n",
       "176794            61       2020-04-01 10:42:35       2020-04-01 10:43:37   \n",
       "176795            78       2020-03-18 17:10:42       2020-03-18 17:12:01   \n",
       "176796           122       2020-04-01 13:32:28       2020-04-01 13:34:31   \n",
       "176797           340       2020-04-01 13:07:34       2020-04-01 13:13:14   \n",
       "176798           333       2020-03-23 16:39:57       2020-03-23 16:45:30   \n",
       "\n",
       "        start_station_id           start_station_name  start_station_latitude  \\\n",
       "0                  229.0    Foothill Blvd at 42nd Ave               37.775745   \n",
       "1                    4.0  Cyril Magnin St at Ellis St               37.785881   \n",
       "2                  245.0       Downtown Berkeley BART               37.870139   \n",
       "3                   85.0      Church St at Duboce Ave               37.770083   \n",
       "4                   16.0      Steuart St at Market St               37.794130   \n",
       "...                  ...                          ...                     ...   \n",
       "176794               NaN                          NaN               37.848493   \n",
       "176795               NaN                          NaN               37.848499   \n",
       "176796               NaN                          NaN               37.848507   \n",
       "176797               NaN                          NaN               37.848530   \n",
       "176798               NaN                          NaN               37.848625   \n",
       "\n",
       "        start_station_longitude  end_station_id              end_station_name  \\\n",
       "0                   -122.213037           196.0       Grand Ave at Perkins St   \n",
       "1                   -122.408915           134.0        Valencia St at 24th St   \n",
       "2                   -122.268422           157.0          65th St at Hollis St   \n",
       "3                   -122.429156            53.0        Grove St at Divisadero   \n",
       "4                   -122.394430            28.0  The Embarcadero at Bryant St   \n",
       "...                         ...             ...                           ...   \n",
       "176794              -122.265797             NaN                           NaN   \n",
       "176795              -122.265794             NaN                           NaN   \n",
       "176796              -122.266010             NaN                           NaN   \n",
       "176797              -122.266013             NaN                           NaN   \n",
       "176798              -122.266660             NaN                           NaN   \n",
       "\n",
       "        end_station_latitude  end_station_longitude  bike_id   user_type  \n",
       "0                  37.808894            -122.256460     4861  Subscriber  \n",
       "1                  37.752428            -122.420628     5506  Subscriber  \n",
       "2                  37.846784            -122.291376     2717    Customer  \n",
       "3                  37.775946            -122.437777     4557    Customer  \n",
       "4                  37.787168            -122.388098     2100    Customer  \n",
       "...                      ...                    ...      ...         ...  \n",
       "176794             37.848476            -122.265779   999960  Subscriber  \n",
       "176795             37.848477            -122.265815   999960  Subscriber  \n",
       "176796             37.848485            -122.266063   633095  Subscriber  \n",
       "176797             37.848497            -122.266029   633095  Subscriber  \n",
       "176798             37.848446            -122.266022   633095  Subscriber  \n",
       "\n",
       "[1521776 rows x 13 columns]"
      ]
     },
     "execution_count": 126,
     "metadata": {},
     "output_type": "execute_result"
    }
   ],
   "source": [
    "#dropping duplicates\n",
    "df_bike_clean=df_bike_clean.drop_duplicates(keep=False)\n",
    "df_bike_clean"
   ]
  },
  {
   "cell_type": "code",
   "execution_count": 127,
   "metadata": {},
   "outputs": [
    {
     "data": {
      "text/plain": [
       "0"
      ]
     },
     "execution_count": 127,
     "metadata": {},
     "output_type": "execute_result"
    }
   ],
   "source": [
    "#test if drop was successful\n",
    "df_bike_clean.duplicated().sum()"
   ]
  },
  {
   "cell_type": "code",
   "execution_count": 128,
   "metadata": {},
   "outputs": [],
   "source": [
    "# Changing the datatypes of start_station_id, end_station_id and bike_id\n",
    "\n",
    "df_bike_clean.start_station_id = df_bike_clean.start_station_id.astype(str)\n",
    "df_bike_clean.end_station_id = df_bike_clean.end_station_id.astype(str)\n",
    "df_bike_clean.bike_id = df_bike_clean.bike_id.astype(str)"
   ]
  },
  {
   "cell_type": "code",
   "execution_count": 129,
   "metadata": {},
   "outputs": [],
   "source": [
    "# Changing the datatypes of user_type\n",
    "df_bike_clean.user_type = df_bike_clean.user_type.astype('category')"
   ]
  },
  {
   "cell_type": "code",
   "execution_count": 130,
   "metadata": {},
   "outputs": [],
   "source": [
    "# Changing the datatypes of start_time and end_time to datetime format\n",
    "df_bike_clean.start_time = pd.to_datetime(df_bike_clean.start_time)\n",
    "df_bike_clean.end_time = pd.to_datetime(df_bike_clean.end_time)"
   ]
  },
  {
   "cell_type": "code",
   "execution_count": 131,
   "metadata": {},
   "outputs": [
    {
     "name": "stdout",
     "output_type": "stream",
     "text": [
      "<class 'pandas.core.frame.DataFrame'>\n",
      "Int64Index: 1521776 entries, 0 to 176798\n",
      "Data columns (total 13 columns):\n",
      " #   Column                   Non-Null Count    Dtype         \n",
      "---  ------                   --------------    -----         \n",
      " 0   duration_sec             1521776 non-null  int64         \n",
      " 1   start_time               1521776 non-null  datetime64[ns]\n",
      " 2   end_time                 1521776 non-null  datetime64[ns]\n",
      " 3   start_station_id         1521776 non-null  object        \n",
      " 4   start_station_name       1048773 non-null  object        \n",
      " 5   start_station_latitude   1521776 non-null  float64       \n",
      " 6   start_station_longitude  1521776 non-null  float64       \n",
      " 7   end_station_id           1521776 non-null  object        \n",
      " 8   end_station_name         1049320 non-null  object        \n",
      " 9   end_station_latitude     1521776 non-null  float64       \n",
      " 10  end_station_longitude    1521776 non-null  float64       \n",
      " 11  bike_id                  1521776 non-null  object        \n",
      " 12  user_type                1521776 non-null  category      \n",
      "dtypes: category(1), datetime64[ns](2), float64(4), int64(1), object(5)\n",
      "memory usage: 152.4+ MB\n"
     ]
    }
   ],
   "source": [
    "#test if the changing of datatypes was successful\n",
    "df_bike_clean.info(null_counts = True)"
   ]
  },
  {
   "cell_type": "markdown",
   "metadata": {},
   "source": [
    "#### Addition of the new columns for analysis"
   ]
  },
  {
   "cell_type": "code",
   "execution_count": 132,
   "metadata": {},
   "outputs": [],
   "source": [
    "# start time in terms of Month No. \n",
    "df_bike_clean['start_time_year'] = df_bike_clean['start_time'].dt.year.astype(int)"
   ]
  },
  {
   "cell_type": "code",
   "execution_count": 133,
   "metadata": {},
   "outputs": [],
   "source": [
    "# start time in terms of Month No. \n",
    "df_bike_clean['start_time_month_no'] = df_bike_clean['start_time'].dt.month.astype(int)"
   ]
  },
  {
   "cell_type": "code",
   "execution_count": 134,
   "metadata": {},
   "outputs": [],
   "source": [
    "# start time in terms of Month Names\n",
    "df_bike_clean['start_time_month'] = df_bike_clean['start_time'].dt.strftime('%B')"
   ]
  },
  {
   "cell_type": "code",
   "execution_count": 135,
   "metadata": {},
   "outputs": [],
   "source": [
    "# start time in terms of weekday\n",
    "df_bike_clean['start_time_weekday'] = df_bike_clean['start_time'].dt.strftime('%a')"
   ]
  },
  {
   "cell_type": "code",
   "execution_count": 136,
   "metadata": {},
   "outputs": [],
   "source": [
    "# conversion of duration in seconds to duration in minutes\n",
    "df_bike_clean['duration_min'] = df_bike_clean['duration_sec']/60\n",
    "df_bike_clean['duration_min'] = df_bike_clean['duration_min'].astype(int)"
   ]
  },
  {
   "cell_type": "code",
   "execution_count": 137,
   "metadata": {},
   "outputs": [],
   "source": [
    "# start time and end time wrt hour\n",
    "df_bike_clean['start_time_hour'] = df_bike_clean['start_time'].dt.hour\n",
    "df_bike_clean['end_time_hour'] = df_bike_clean['end_time'].dt.hour"
   ]
  },
  {
   "cell_type": "code",
   "execution_count": 138,
   "metadata": {},
   "outputs": [
    {
     "name": "stdout",
     "output_type": "stream",
     "text": [
      "<class 'pandas.core.frame.DataFrame'>\n",
      "Int64Index: 1521776 entries, 0 to 176798\n",
      "Data columns (total 20 columns):\n",
      " #   Column                   Non-Null Count    Dtype         \n",
      "---  ------                   --------------    -----         \n",
      " 0   duration_sec             1521776 non-null  int64         \n",
      " 1   start_time               1521776 non-null  datetime64[ns]\n",
      " 2   end_time                 1521776 non-null  datetime64[ns]\n",
      " 3   start_station_id         1521776 non-null  object        \n",
      " 4   start_station_name       1048773 non-null  object        \n",
      " 5   start_station_latitude   1521776 non-null  float64       \n",
      " 6   start_station_longitude  1521776 non-null  float64       \n",
      " 7   end_station_id           1521776 non-null  object        \n",
      " 8   end_station_name         1049320 non-null  object        \n",
      " 9   end_station_latitude     1521776 non-null  float64       \n",
      " 10  end_station_longitude    1521776 non-null  float64       \n",
      " 11  bike_id                  1521776 non-null  object        \n",
      " 12  user_type                1521776 non-null  category      \n",
      " 13  start_time_year          1521776 non-null  int64         \n",
      " 14  start_time_month_no      1521776 non-null  int64         \n",
      " 15  start_time_month         1521776 non-null  object        \n",
      " 16  start_time_weekday       1521776 non-null  object        \n",
      " 17  duration_min             1521776 non-null  int64         \n",
      " 18  start_time_hour          1521776 non-null  int64         \n",
      " 19  end_time_hour            1521776 non-null  int64         \n",
      "dtypes: category(1), datetime64[ns](2), float64(4), int64(6), object(7)\n",
      "memory usage: 233.7+ MB\n"
     ]
    }
   ],
   "source": [
    "#test if addition of columns was successful\n",
    "df_bike_clean.info(null_counts = True)"
   ]
  },
  {
   "cell_type": "markdown",
   "metadata": {},
   "source": [
    "7 new columns have been added successfully."
   ]
  },
  {
   "cell_type": "code",
   "execution_count": 139,
   "metadata": {},
   "outputs": [
    {
     "data": {
      "text/plain": [
       "2020    889983\n",
       "2019    631793\n",
       "Name: start_time_year, dtype: int64"
      ]
     },
     "execution_count": 139,
     "metadata": {},
     "output_type": "execute_result"
    }
   ],
   "source": [
    "df_bike_clean.start_time_year.value_counts()"
   ]
  },
  {
   "cell_type": "code",
   "execution_count": 140,
   "metadata": {},
   "outputs": [
    {
     "data": {
      "text/plain": [
       "February    608201\n",
       "January     487936\n",
       "March       423907\n",
       "April         1732\n",
       "Name: start_time_month, dtype: int64"
      ]
     },
     "execution_count": 140,
     "metadata": {},
     "output_type": "execute_result"
    }
   ],
   "source": [
    "df_bike_clean.start_time_month.value_counts()"
   ]
  },
  {
   "cell_type": "code",
   "execution_count": 141,
   "metadata": {},
   "outputs": [
    {
     "data": {
      "text/plain": [
       "2    608201\n",
       "1    487936\n",
       "3    423907\n",
       "4      1732\n",
       "Name: start_time_month_no, dtype: int64"
      ]
     },
     "execution_count": 141,
     "metadata": {},
     "output_type": "execute_result"
    }
   ],
   "source": [
    "df_bike_clean.start_time_month_no.value_counts()"
   ]
  },
  {
   "cell_type": "markdown",
   "metadata": {},
   "source": [
    "'start_time_month' and 'start_time_month_no' has the data for month April. Since the focus is only on first 3 months, the data of the month April has to be deleted."
   ]
  },
  {
   "cell_type": "code",
   "execution_count": 142,
   "metadata": {},
   "outputs": [
    {
     "data": {
      "text/html": [
       "<div>\n",
       "<style scoped>\n",
       "    .dataframe tbody tr th:only-of-type {\n",
       "        vertical-align: middle;\n",
       "    }\n",
       "\n",
       "    .dataframe tbody tr th {\n",
       "        vertical-align: top;\n",
       "    }\n",
       "\n",
       "    .dataframe thead th {\n",
       "        text-align: right;\n",
       "    }\n",
       "</style>\n",
       "<table border=\"1\" class=\"dataframe\">\n",
       "  <thead>\n",
       "    <tr style=\"text-align: right;\">\n",
       "      <th></th>\n",
       "      <th>duration_sec</th>\n",
       "      <th>start_time</th>\n",
       "      <th>end_time</th>\n",
       "      <th>start_station_id</th>\n",
       "      <th>start_station_name</th>\n",
       "      <th>start_station_latitude</th>\n",
       "      <th>start_station_longitude</th>\n",
       "      <th>end_station_id</th>\n",
       "      <th>end_station_name</th>\n",
       "      <th>end_station_latitude</th>\n",
       "      <th>end_station_longitude</th>\n",
       "      <th>bike_id</th>\n",
       "      <th>user_type</th>\n",
       "      <th>start_time_year</th>\n",
       "      <th>start_time_month_no</th>\n",
       "      <th>start_time_month</th>\n",
       "      <th>start_time_weekday</th>\n",
       "      <th>duration_min</th>\n",
       "      <th>start_time_hour</th>\n",
       "      <th>end_time_hour</th>\n",
       "    </tr>\n",
       "  </thead>\n",
       "  <tbody>\n",
       "    <tr>\n",
       "      <th>62547</th>\n",
       "      <td>1010</td>\n",
       "      <td>2020-04-01 07:51:06</td>\n",
       "      <td>2020-04-01 08:07:57</td>\n",
       "      <td>nan</td>\n",
       "      <td>NaN</td>\n",
       "      <td>37.277431</td>\n",
       "      <td>-121.834970</td>\n",
       "      <td>nan</td>\n",
       "      <td>NaN</td>\n",
       "      <td>37.306238</td>\n",
       "      <td>-121.863562</td>\n",
       "      <td>422281</td>\n",
       "      <td>Subscriber</td>\n",
       "      <td>2020</td>\n",
       "      <td>4</td>\n",
       "      <td>April</td>\n",
       "      <td>Wed</td>\n",
       "      <td>16</td>\n",
       "      <td>7</td>\n",
       "      <td>8</td>\n",
       "    </tr>\n",
       "    <tr>\n",
       "      <th>62665</th>\n",
       "      <td>547</td>\n",
       "      <td>2020-04-01 11:31:49</td>\n",
       "      <td>2020-04-01 11:40:56</td>\n",
       "      <td>nan</td>\n",
       "      <td>NaN</td>\n",
       "      <td>37.293834</td>\n",
       "      <td>-121.833307</td>\n",
       "      <td>nan</td>\n",
       "      <td>NaN</td>\n",
       "      <td>37.284525</td>\n",
       "      <td>-121.841318</td>\n",
       "      <td>842581</td>\n",
       "      <td>Customer</td>\n",
       "      <td>2020</td>\n",
       "      <td>4</td>\n",
       "      <td>April</td>\n",
       "      <td>Wed</td>\n",
       "      <td>9</td>\n",
       "      <td>11</td>\n",
       "      <td>11</td>\n",
       "    </tr>\n",
       "    <tr>\n",
       "      <th>62815</th>\n",
       "      <td>362</td>\n",
       "      <td>2020-04-01 15:23:29</td>\n",
       "      <td>2020-04-01 15:29:32</td>\n",
       "      <td>nan</td>\n",
       "      <td>NaN</td>\n",
       "      <td>37.300147</td>\n",
       "      <td>-121.922851</td>\n",
       "      <td>nan</td>\n",
       "      <td>NaN</td>\n",
       "      <td>37.301309</td>\n",
       "      <td>-121.924410</td>\n",
       "      <td>529555</td>\n",
       "      <td>Customer</td>\n",
       "      <td>2020</td>\n",
       "      <td>4</td>\n",
       "      <td>April</td>\n",
       "      <td>Wed</td>\n",
       "      <td>6</td>\n",
       "      <td>15</td>\n",
       "      <td>15</td>\n",
       "    </tr>\n",
       "    <tr>\n",
       "      <th>62822</th>\n",
       "      <td>1492</td>\n",
       "      <td>2020-04-01 07:07:15</td>\n",
       "      <td>2020-04-01 07:32:07</td>\n",
       "      <td>nan</td>\n",
       "      <td>NaN</td>\n",
       "      <td>37.301035</td>\n",
       "      <td>-121.922897</td>\n",
       "      <td>nan</td>\n",
       "      <td>NaN</td>\n",
       "      <td>37.312359</td>\n",
       "      <td>-121.852561</td>\n",
       "      <td>555435</td>\n",
       "      <td>Subscriber</td>\n",
       "      <td>2020</td>\n",
       "      <td>4</td>\n",
       "      <td>April</td>\n",
       "      <td>Wed</td>\n",
       "      <td>24</td>\n",
       "      <td>7</td>\n",
       "      <td>7</td>\n",
       "    </tr>\n",
       "    <tr>\n",
       "      <th>62835</th>\n",
       "      <td>640</td>\n",
       "      <td>2020-04-01 18:23:19</td>\n",
       "      <td>2020-04-01 18:33:59</td>\n",
       "      <td>nan</td>\n",
       "      <td>NaN</td>\n",
       "      <td>37.301088</td>\n",
       "      <td>-121.922927</td>\n",
       "      <td>nan</td>\n",
       "      <td>NaN</td>\n",
       "      <td>37.317408</td>\n",
       "      <td>-121.921553</td>\n",
       "      <td>529555</td>\n",
       "      <td>Customer</td>\n",
       "      <td>2020</td>\n",
       "      <td>4</td>\n",
       "      <td>April</td>\n",
       "      <td>Wed</td>\n",
       "      <td>10</td>\n",
       "      <td>18</td>\n",
       "      <td>18</td>\n",
       "    </tr>\n",
       "    <tr>\n",
       "      <th>...</th>\n",
       "      <td>...</td>\n",
       "      <td>...</td>\n",
       "      <td>...</td>\n",
       "      <td>...</td>\n",
       "      <td>...</td>\n",
       "      <td>...</td>\n",
       "      <td>...</td>\n",
       "      <td>...</td>\n",
       "      <td>...</td>\n",
       "      <td>...</td>\n",
       "      <td>...</td>\n",
       "      <td>...</td>\n",
       "      <td>...</td>\n",
       "      <td>...</td>\n",
       "      <td>...</td>\n",
       "      <td>...</td>\n",
       "      <td>...</td>\n",
       "      <td>...</td>\n",
       "      <td>...</td>\n",
       "      <td>...</td>\n",
       "    </tr>\n",
       "    <tr>\n",
       "      <th>176792</th>\n",
       "      <td>78</td>\n",
       "      <td>2020-04-01 13:27:39</td>\n",
       "      <td>2020-04-01 13:28:58</td>\n",
       "      <td>nan</td>\n",
       "      <td>NaN</td>\n",
       "      <td>37.848478</td>\n",
       "      <td>-122.266082</td>\n",
       "      <td>nan</td>\n",
       "      <td>NaN</td>\n",
       "      <td>37.848497</td>\n",
       "      <td>-122.266023</td>\n",
       "      <td>633095</td>\n",
       "      <td>Subscriber</td>\n",
       "      <td>2020</td>\n",
       "      <td>4</td>\n",
       "      <td>April</td>\n",
       "      <td>Wed</td>\n",
       "      <td>1</td>\n",
       "      <td>13</td>\n",
       "      <td>13</td>\n",
       "    </tr>\n",
       "    <tr>\n",
       "      <th>176793</th>\n",
       "      <td>165</td>\n",
       "      <td>2020-04-01 12:53:13</td>\n",
       "      <td>2020-04-01 12:55:58</td>\n",
       "      <td>nan</td>\n",
       "      <td>NaN</td>\n",
       "      <td>37.848479</td>\n",
       "      <td>-122.266063</td>\n",
       "      <td>nan</td>\n",
       "      <td>NaN</td>\n",
       "      <td>37.848602</td>\n",
       "      <td>-122.265745</td>\n",
       "      <td>633095</td>\n",
       "      <td>Subscriber</td>\n",
       "      <td>2020</td>\n",
       "      <td>4</td>\n",
       "      <td>April</td>\n",
       "      <td>Wed</td>\n",
       "      <td>2</td>\n",
       "      <td>12</td>\n",
       "      <td>12</td>\n",
       "    </tr>\n",
       "    <tr>\n",
       "      <th>176794</th>\n",
       "      <td>61</td>\n",
       "      <td>2020-04-01 10:42:35</td>\n",
       "      <td>2020-04-01 10:43:37</td>\n",
       "      <td>nan</td>\n",
       "      <td>NaN</td>\n",
       "      <td>37.848493</td>\n",
       "      <td>-122.265797</td>\n",
       "      <td>nan</td>\n",
       "      <td>NaN</td>\n",
       "      <td>37.848476</td>\n",
       "      <td>-122.265779</td>\n",
       "      <td>999960</td>\n",
       "      <td>Subscriber</td>\n",
       "      <td>2020</td>\n",
       "      <td>4</td>\n",
       "      <td>April</td>\n",
       "      <td>Wed</td>\n",
       "      <td>1</td>\n",
       "      <td>10</td>\n",
       "      <td>10</td>\n",
       "    </tr>\n",
       "    <tr>\n",
       "      <th>176796</th>\n",
       "      <td>122</td>\n",
       "      <td>2020-04-01 13:32:28</td>\n",
       "      <td>2020-04-01 13:34:31</td>\n",
       "      <td>nan</td>\n",
       "      <td>NaN</td>\n",
       "      <td>37.848507</td>\n",
       "      <td>-122.266010</td>\n",
       "      <td>nan</td>\n",
       "      <td>NaN</td>\n",
       "      <td>37.848485</td>\n",
       "      <td>-122.266063</td>\n",
       "      <td>633095</td>\n",
       "      <td>Subscriber</td>\n",
       "      <td>2020</td>\n",
       "      <td>4</td>\n",
       "      <td>April</td>\n",
       "      <td>Wed</td>\n",
       "      <td>2</td>\n",
       "      <td>13</td>\n",
       "      <td>13</td>\n",
       "    </tr>\n",
       "    <tr>\n",
       "      <th>176797</th>\n",
       "      <td>340</td>\n",
       "      <td>2020-04-01 13:07:34</td>\n",
       "      <td>2020-04-01 13:13:14</td>\n",
       "      <td>nan</td>\n",
       "      <td>NaN</td>\n",
       "      <td>37.848530</td>\n",
       "      <td>-122.266013</td>\n",
       "      <td>nan</td>\n",
       "      <td>NaN</td>\n",
       "      <td>37.848497</td>\n",
       "      <td>-122.266029</td>\n",
       "      <td>633095</td>\n",
       "      <td>Subscriber</td>\n",
       "      <td>2020</td>\n",
       "      <td>4</td>\n",
       "      <td>April</td>\n",
       "      <td>Wed</td>\n",
       "      <td>5</td>\n",
       "      <td>13</td>\n",
       "      <td>13</td>\n",
       "    </tr>\n",
       "  </tbody>\n",
       "</table>\n",
       "<p>1732 rows × 20 columns</p>\n",
       "</div>"
      ],
      "text/plain": [
       "        duration_sec          start_time            end_time start_station_id  \\\n",
       "62547           1010 2020-04-01 07:51:06 2020-04-01 08:07:57              nan   \n",
       "62665            547 2020-04-01 11:31:49 2020-04-01 11:40:56              nan   \n",
       "62815            362 2020-04-01 15:23:29 2020-04-01 15:29:32              nan   \n",
       "62822           1492 2020-04-01 07:07:15 2020-04-01 07:32:07              nan   \n",
       "62835            640 2020-04-01 18:23:19 2020-04-01 18:33:59              nan   \n",
       "...              ...                 ...                 ...              ...   \n",
       "176792            78 2020-04-01 13:27:39 2020-04-01 13:28:58              nan   \n",
       "176793           165 2020-04-01 12:53:13 2020-04-01 12:55:58              nan   \n",
       "176794            61 2020-04-01 10:42:35 2020-04-01 10:43:37              nan   \n",
       "176796           122 2020-04-01 13:32:28 2020-04-01 13:34:31              nan   \n",
       "176797           340 2020-04-01 13:07:34 2020-04-01 13:13:14              nan   \n",
       "\n",
       "       start_station_name  start_station_latitude  start_station_longitude  \\\n",
       "62547                 NaN               37.277431              -121.834970   \n",
       "62665                 NaN               37.293834              -121.833307   \n",
       "62815                 NaN               37.300147              -121.922851   \n",
       "62822                 NaN               37.301035              -121.922897   \n",
       "62835                 NaN               37.301088              -121.922927   \n",
       "...                   ...                     ...                      ...   \n",
       "176792                NaN               37.848478              -122.266082   \n",
       "176793                NaN               37.848479              -122.266063   \n",
       "176794                NaN               37.848493              -122.265797   \n",
       "176796                NaN               37.848507              -122.266010   \n",
       "176797                NaN               37.848530              -122.266013   \n",
       "\n",
       "       end_station_id end_station_name  end_station_latitude  \\\n",
       "62547             nan              NaN             37.306238   \n",
       "62665             nan              NaN             37.284525   \n",
       "62815             nan              NaN             37.301309   \n",
       "62822             nan              NaN             37.312359   \n",
       "62835             nan              NaN             37.317408   \n",
       "...               ...              ...                   ...   \n",
       "176792            nan              NaN             37.848497   \n",
       "176793            nan              NaN             37.848602   \n",
       "176794            nan              NaN             37.848476   \n",
       "176796            nan              NaN             37.848485   \n",
       "176797            nan              NaN             37.848497   \n",
       "\n",
       "        end_station_longitude bike_id   user_type  start_time_year  \\\n",
       "62547             -121.863562  422281  Subscriber             2020   \n",
       "62665             -121.841318  842581    Customer             2020   \n",
       "62815             -121.924410  529555    Customer             2020   \n",
       "62822             -121.852561  555435  Subscriber             2020   \n",
       "62835             -121.921553  529555    Customer             2020   \n",
       "...                       ...     ...         ...              ...   \n",
       "176792            -122.266023  633095  Subscriber             2020   \n",
       "176793            -122.265745  633095  Subscriber             2020   \n",
       "176794            -122.265779  999960  Subscriber             2020   \n",
       "176796            -122.266063  633095  Subscriber             2020   \n",
       "176797            -122.266029  633095  Subscriber             2020   \n",
       "\n",
       "        start_time_month_no start_time_month start_time_weekday  duration_min  \\\n",
       "62547                     4            April                Wed            16   \n",
       "62665                     4            April                Wed             9   \n",
       "62815                     4            April                Wed             6   \n",
       "62822                     4            April                Wed            24   \n",
       "62835                     4            April                Wed            10   \n",
       "...                     ...              ...                ...           ...   \n",
       "176792                    4            April                Wed             1   \n",
       "176793                    4            April                Wed             2   \n",
       "176794                    4            April                Wed             1   \n",
       "176796                    4            April                Wed             2   \n",
       "176797                    4            April                Wed             5   \n",
       "\n",
       "        start_time_hour  end_time_hour  \n",
       "62547                 7              8  \n",
       "62665                11             11  \n",
       "62815                15             15  \n",
       "62822                 7              7  \n",
       "62835                18             18  \n",
       "...                 ...            ...  \n",
       "176792               13             13  \n",
       "176793               12             12  \n",
       "176794               10             10  \n",
       "176796               13             13  \n",
       "176797               13             13  \n",
       "\n",
       "[1732 rows x 20 columns]"
      ]
     },
     "execution_count": 142,
     "metadata": {},
     "output_type": "execute_result"
    }
   ],
   "source": [
    "df_bike_clean.query('start_time_month == \"April\"')"
   ]
  },
  {
   "cell_type": "code",
   "execution_count": 143,
   "metadata": {},
   "outputs": [],
   "source": [
    " #delete all rows for which column 'start_time_month_no' has value equals to 4 and start_time_month is April\n",
    "indexNames = df_bike_clean[ (df_bike_clean['start_time_month_no'] == 4) & (df_bike_clean['start_time_month'] == 'April') ].index\n",
    "df_bike_clean.drop(indexNames , inplace=True)"
   ]
  },
  {
   "cell_type": "code",
   "execution_count": 144,
   "metadata": {},
   "outputs": [
    {
     "data": {
      "text/plain": [
       "February    604761\n",
       "January     484472\n",
       "March       422175\n",
       "Name: start_time_month, dtype: int64"
      ]
     },
     "execution_count": 144,
     "metadata": {},
     "output_type": "execute_result"
    }
   ],
   "source": [
    "#check if drop was successful\n",
    "df_bike_clean.start_time_month.value_counts()"
   ]
  },
  {
   "cell_type": "code",
   "execution_count": 145,
   "metadata": {},
   "outputs": [
    {
     "data": {
      "text/plain": [
       "2    604761\n",
       "1    484472\n",
       "3    422175\n",
       "Name: start_time_month_no, dtype: int64"
      ]
     },
     "execution_count": 145,
     "metadata": {},
     "output_type": "execute_result"
    }
   ],
   "source": [
    "#check if drop was successful\n",
    "df_bike_clean.start_time_month_no.value_counts()"
   ]
  },
  {
   "cell_type": "code",
   "execution_count": 146,
   "metadata": {},
   "outputs": [],
   "source": [
    "#Saving the cleaned data set\n",
    "df_bike_clean.to_csv('baywheels_tripdata_clean.csv', index = False)"
   ]
  },
  {
   "cell_type": "code",
   "execution_count": null,
   "metadata": {},
   "outputs": [],
   "source": []
  },
  {
   "cell_type": "code",
   "execution_count": null,
   "metadata": {},
   "outputs": [],
   "source": []
  },
  {
   "cell_type": "code",
   "execution_count": null,
   "metadata": {},
   "outputs": [],
   "source": []
  },
  {
   "cell_type": "markdown",
   "metadata": {},
   "source": [
    "### Univariate Exploration"
   ]
  },
  {
   "cell_type": "code",
   "execution_count": 147,
   "metadata": {},
   "outputs": [
    {
     "data": {
      "text/plain": [
       "2020    884811\n",
       "2019    626597\n",
       "Name: start_time_year, dtype: int64"
      ]
     },
     "execution_count": 147,
     "metadata": {},
     "output_type": "execute_result"
    }
   ],
   "source": [
    "df_bike_clean.start_time_year.value_counts()"
   ]
  },
  {
   "cell_type": "code",
   "execution_count": 148,
   "metadata": {},
   "outputs": [],
   "source": [
    "#setting to the variable no_color\n",
    "no_color = sb.color_palette()[0]"
   ]
  },
  {
   "cell_type": "code",
   "execution_count": 150,
   "metadata": {},
   "outputs": [
    {
     "data": {
      "image/png": "[encoded data removed]",
      "text/plain": [
       "<Figure size 360x360 with 1 Axes>"
      ]
     },
     "metadata": {
      "needs_background": "light"
     },
     "output_type": "display_data"
    }
   ],
   "source": [
    "# Ford GoBike Trips by Year 2019 and 2020\n",
    "graph = sb.catplot(data = df_bike_clean, x = 'start_time_year', kind = 'count', color = no_color, aspect = 1);\n",
    "\n",
    "graph.set_axis_labels('Year', 'Number of Bike Trips'),\n",
    "\n",
    "graph.fig.suptitle('Ford GoBike Trips by Year', y = 1.0, fontsize = 12, fontweight = 'bold');\n",
    "\n",
    "graph.set_xticklabels();"
   ]
  },
  {
   "cell_type": "markdown",
   "metadata": {},
   "source": [
    "The above figure shows that the bike trips in the months of the year 2019 is relatively very less approx. 620000 and year 2020 has almost 880000 trips. Increase of almost 260000 trips has been seen in 2020."
   ]
  },
  {
   "cell_type": "code",
   "execution_count": 159,
   "metadata": {},
   "outputs": [
    {
     "data": {
      "image/png": "[encoded data removed]",
      "text/plain": [
       "<Figure size 360x360 with 1 Axes>"
      ]
     },
     "metadata": {
      "needs_background": "light"
     },
     "output_type": "display_data"
    }
   ],
   "source": [
    "#Combined Monthly usage of year 2019 and 2020 of the Ford Go Bike\n",
    "graph = sb.catplot(data = df_bike_clean, x = 'start_time_month', kind = 'count', color = no_color, aspect = 1);\n",
    "\n",
    "graph.set_axis_labels('Month', 'Number of Bike Trips'),\n",
    "\n",
    "graph.fig.suptitle('Combined Ford GoBike usage by Month', y = 1.0, fontsize = 12, fontweight = 'bold');\n",
    "\n",
    "graph.set_xticklabels();"
   ]
  },
  {
   "cell_type": "markdown",
   "metadata": {},
   "source": [
    "The above figure shows that February month has relatively more number of bike trips, followed by January and then March. Let's look into the dataset of each year 2019 and 2020 to see if the same pattern is seen in usage over Months."
   ]
  },
  {
   "cell_type": "code",
   "execution_count": 160,
   "metadata": {},
   "outputs": [
    {
     "data": {
      "text/html": [
       "<div>\n",
       "<style scoped>\n",
       "    .dataframe tbody tr th:only-of-type {\n",
       "        vertical-align: middle;\n",
       "    }\n",
       "\n",
       "    .dataframe tbody tr th {\n",
       "        vertical-align: top;\n",
       "    }\n",
       "\n",
       "    .dataframe thead th {\n",
       "        text-align: right;\n",
       "    }\n",
       "</style>\n",
       "<table border=\"1\" class=\"dataframe\">\n",
       "  <thead>\n",
       "    <tr style=\"text-align: right;\">\n",
       "      <th></th>\n",
       "      <th>duration_sec</th>\n",
       "      <th>start_time</th>\n",
       "      <th>end_time</th>\n",
       "      <th>start_station_id</th>\n",
       "      <th>start_station_name</th>\n",
       "      <th>start_station_latitude</th>\n",
       "      <th>start_station_longitude</th>\n",
       "      <th>end_station_id</th>\n",
       "      <th>end_station_name</th>\n",
       "      <th>end_station_latitude</th>\n",
       "      <th>end_station_longitude</th>\n",
       "      <th>bike_id</th>\n",
       "      <th>user_type</th>\n",
       "      <th>start_time_year</th>\n",
       "      <th>start_time_month_no</th>\n",
       "      <th>start_time_month</th>\n",
       "      <th>start_time_weekday</th>\n",
       "      <th>duration_min</th>\n",
       "      <th>start_time_hour</th>\n",
       "      <th>end_time_hour</th>\n",
       "    </tr>\n",
       "  </thead>\n",
       "  <tbody>\n",
       "    <tr>\n",
       "      <th>0</th>\n",
       "      <td>80825</td>\n",
       "      <td>2019-01-31 17:57:44.613</td>\n",
       "      <td>2019-02-01 16:24:49.864</td>\n",
       "      <td>229.0</td>\n",
       "      <td>Foothill Blvd at 42nd Ave</td>\n",
       "      <td>37.775745</td>\n",
       "      <td>-122.213037</td>\n",
       "      <td>196.0</td>\n",
       "      <td>Grand Ave at Perkins St</td>\n",
       "      <td>37.808894</td>\n",
       "      <td>-122.256460</td>\n",
       "      <td>4861</td>\n",
       "      <td>Subscriber</td>\n",
       "      <td>2019</td>\n",
       "      <td>1</td>\n",
       "      <td>January</td>\n",
       "      <td>Thu</td>\n",
       "      <td>1347</td>\n",
       "      <td>17</td>\n",
       "      <td>16</td>\n",
       "    </tr>\n",
       "    <tr>\n",
       "      <th>1</th>\n",
       "      <td>65900</td>\n",
       "      <td>2019-01-31 20:58:33.886</td>\n",
       "      <td>2019-02-01 15:16:54.173</td>\n",
       "      <td>4.0</td>\n",
       "      <td>Cyril Magnin St at Ellis St</td>\n",
       "      <td>37.785881</td>\n",
       "      <td>-122.408915</td>\n",
       "      <td>134.0</td>\n",
       "      <td>Valencia St at 24th St</td>\n",
       "      <td>37.752428</td>\n",
       "      <td>-122.420628</td>\n",
       "      <td>5506</td>\n",
       "      <td>Subscriber</td>\n",
       "      <td>2019</td>\n",
       "      <td>1</td>\n",
       "      <td>January</td>\n",
       "      <td>Thu</td>\n",
       "      <td>1098</td>\n",
       "      <td>20</td>\n",
       "      <td>15</td>\n",
       "    </tr>\n",
       "    <tr>\n",
       "      <th>2</th>\n",
       "      <td>62633</td>\n",
       "      <td>2019-01-31 18:06:52.924</td>\n",
       "      <td>2019-02-01 11:30:46.530</td>\n",
       "      <td>245.0</td>\n",
       "      <td>Downtown Berkeley BART</td>\n",
       "      <td>37.870139</td>\n",
       "      <td>-122.268422</td>\n",
       "      <td>157.0</td>\n",
       "      <td>65th St at Hollis St</td>\n",
       "      <td>37.846784</td>\n",
       "      <td>-122.291376</td>\n",
       "      <td>2717</td>\n",
       "      <td>Customer</td>\n",
       "      <td>2019</td>\n",
       "      <td>1</td>\n",
       "      <td>January</td>\n",
       "      <td>Thu</td>\n",
       "      <td>1043</td>\n",
       "      <td>18</td>\n",
       "      <td>11</td>\n",
       "    </tr>\n",
       "    <tr>\n",
       "      <th>3</th>\n",
       "      <td>44680</td>\n",
       "      <td>2019-01-31 19:46:09.719</td>\n",
       "      <td>2019-02-01 08:10:50.318</td>\n",
       "      <td>85.0</td>\n",
       "      <td>Church St at Duboce Ave</td>\n",
       "      <td>37.770083</td>\n",
       "      <td>-122.429156</td>\n",
       "      <td>53.0</td>\n",
       "      <td>Grove St at Divisadero</td>\n",
       "      <td>37.775946</td>\n",
       "      <td>-122.437777</td>\n",
       "      <td>4557</td>\n",
       "      <td>Customer</td>\n",
       "      <td>2019</td>\n",
       "      <td>1</td>\n",
       "      <td>January</td>\n",
       "      <td>Thu</td>\n",
       "      <td>744</td>\n",
       "      <td>19</td>\n",
       "      <td>8</td>\n",
       "    </tr>\n",
       "    <tr>\n",
       "      <th>4</th>\n",
       "      <td>60709</td>\n",
       "      <td>2019-01-31 14:19:01.541</td>\n",
       "      <td>2019-02-01 07:10:51.065</td>\n",
       "      <td>16.0</td>\n",
       "      <td>Steuart St at Market St</td>\n",
       "      <td>37.794130</td>\n",
       "      <td>-122.394430</td>\n",
       "      <td>28.0</td>\n",
       "      <td>The Embarcadero at Bryant St</td>\n",
       "      <td>37.787168</td>\n",
       "      <td>-122.388098</td>\n",
       "      <td>2100</td>\n",
       "      <td>Customer</td>\n",
       "      <td>2019</td>\n",
       "      <td>1</td>\n",
       "      <td>January</td>\n",
       "      <td>Thu</td>\n",
       "      <td>1011</td>\n",
       "      <td>14</td>\n",
       "      <td>7</td>\n",
       "    </tr>\n",
       "  </tbody>\n",
       "</table>\n",
       "</div>"
      ],
      "text/plain": [
       "   duration_sec              start_time                end_time  \\\n",
       "0         80825 2019-01-31 17:57:44.613 2019-02-01 16:24:49.864   \n",
       "1         65900 2019-01-31 20:58:33.886 2019-02-01 15:16:54.173   \n",
       "2         62633 2019-01-31 18:06:52.924 2019-02-01 11:30:46.530   \n",
       "3         44680 2019-01-31 19:46:09.719 2019-02-01 08:10:50.318   \n",
       "4         60709 2019-01-31 14:19:01.541 2019-02-01 07:10:51.065   \n",
       "\n",
       "  start_station_id           start_station_name  start_station_latitude  \\\n",
       "0            229.0    Foothill Blvd at 42nd Ave               37.775745   \n",
       "1              4.0  Cyril Magnin St at Ellis St               37.785881   \n",
       "2            245.0       Downtown Berkeley BART               37.870139   \n",
       "3             85.0      Church St at Duboce Ave               37.770083   \n",
       "4             16.0      Steuart St at Market St               37.794130   \n",
       "\n",
       "   start_station_longitude end_station_id              end_station_name  \\\n",
       "0              -122.213037          196.0       Grand Ave at Perkins St   \n",
       "1              -122.408915          134.0        Valencia St at 24th St   \n",
       "2              -122.268422          157.0          65th St at Hollis St   \n",
       "3              -122.429156           53.0        Grove St at Divisadero   \n",
       "4              -122.394430           28.0  The Embarcadero at Bryant St   \n",
       "\n",
       "   end_station_latitude  end_station_longitude bike_id   user_type  \\\n",
       "0             37.808894            -122.256460    4861  Subscriber   \n",
       "1             37.752428            -122.420628    5506  Subscriber   \n",
       "2             37.846784            -122.291376    2717    Customer   \n",
       "3             37.775946            -122.437777    4557    Customer   \n",
       "4             37.787168            -122.388098    2100    Customer   \n",
       "\n",
       "   start_time_year  start_time_month_no start_time_month start_time_weekday  \\\n",
       "0             2019                    1          January                Thu   \n",
       "1             2019                    1          January                Thu   \n",
       "2             2019                    1          January                Thu   \n",
       "3             2019                    1          January                Thu   \n",
       "4             2019                    1          January                Thu   \n",
       "\n",
       "   duration_min  start_time_hour  end_time_hour  \n",
       "0          1347               17             16  \n",
       "1          1098               20             15  \n",
       "2          1043               18             11  \n",
       "3           744               19              8  \n",
       "4          1011               14              7  "
      ]
     },
     "execution_count": 160,
     "metadata": {},
     "output_type": "execute_result"
    }
   ],
   "source": [
    "#loading cleaned dataset for the year 2019\n",
    "df_bike_clean_2019 = df_bike_clean.query('start_time_year == \"2019\"')\n",
    "df_bike_clean_2019.head()"
   ]
  },
  {
   "cell_type": "code",
   "execution_count": 164,
   "metadata": {},
   "outputs": [
    {
     "data": {
      "image/png": "[encoded data removed]",
      "text/plain": [
       "<Figure size 360x360 with 1 Axes>"
      ]
     },
     "metadata": {
      "needs_background": "light"
     },
     "output_type": "display_data"
    }
   ],
   "source": [
    "# Monthly usage of the Ford Go Bike system in the year 2019\n",
    "graph = sb.catplot(data = df_bike_clean_2019, x = 'start_time_month', kind = 'count', color = no_color, aspect = 1);\n",
    "\n",
    "graph.set_axis_labels('Month', 'Number of Bike Trips'),\n",
    "\n",
    "graph.fig.suptitle('Ford GoBike usage by Month - 2019', y = 1.0, fontsize = 12, fontweight = 'bold');\n",
    "\n",
    "graph.set_xticklabels();"
   ]
  },
  {
   "cell_type": "markdown",
   "metadata": {},
   "source": [
    "The above figure shows that March has the most number of trips in the year 2019. So we can assume that the usage increases in the hotter months."
   ]
  },
  {
   "cell_type": "code",
   "execution_count": 165,
   "metadata": {},
   "outputs": [
    {
     "data": {
      "image/png": "[encoded data removed]",
      "text/plain": [
       "<Figure size 360x360 with 1 Axes>"
      ]
     },
     "metadata": {
      "needs_background": "light"
     },
     "output_type": "display_data"
    }
   ],
   "source": [
    "# Days usage of the Ford Go Bike system in the year 2019\n",
    "weekday = ['Mon', 'Tue', 'Wed', 'Thu', 'Fri', 'Sat', 'Sun']\n",
    "graph = sb.catplot(data = df_bike_clean_2019, x = 'start_time_weekday', kind = 'count', color = no_color, order = weekday);\n",
    "\n",
    "graph.set_axis_labels('Day of the week', 'Number of Bike Trips'),\n",
    "\n",
    "graph.fig.suptitle('Ford GoBike usage by Days - 2019', y = 1.02, fontsize = 12, fontweight = 'bold');\n",
    "\n",
    "graph.set_xticklabels();"
   ]
  },
  {
   "cell_type": "code",
   "execution_count": 166,
   "metadata": {},
   "outputs": [
    {
     "data": {
      "image/png": "[encoded data removed]",
      "text/plain": [
       "<Figure size 540x360 with 1 Axes>"
      ]
     },
     "metadata": {
      "needs_background": "light"
     },
     "output_type": "display_data"
    }
   ],
   "source": [
    "# Hourly usage of the Ford Go Bike System in the year 2019\n",
    "graph = sb.catplot(data = df_bike_clean_2019, x='start_time_hour', kind='count', color = no_color, aspect = 1.5)\n",
    "\n",
    "graph.set_axis_labels('Hours', 'Number of Bike Rides')\n",
    "\n",
    "graph.fig.suptitle('Ford GoBike System Usage by Hour - 2019', y=1.02, fontsize=12, fontweight='bold');"
   ]
  },
  {
   "cell_type": "code",
   "execution_count": 167,
   "metadata": {},
   "outputs": [
    {
     "data": {
      "text/plain": [
       "count    626597.000000\n",
       "mean         12.289428\n",
       "std          31.239730\n",
       "min           1.000000\n",
       "25%           5.000000\n",
       "50%           8.000000\n",
       "75%          13.000000\n",
       "max        1427.000000\n",
       "Name: duration_min, dtype: float64"
      ]
     },
     "execution_count": 167,
     "metadata": {},
     "output_type": "execute_result"
    }
   ],
   "source": [
    "df_bike_clean_2019.duration_min.describe(percentiles = [.95])\n",
    "df_bike_clean_2019.duration_min.describe()"
   ]
  },
  {
   "cell_type": "code",
   "execution_count": 168,
   "metadata": {},
   "outputs": [
    {
     "data": {
      "text/plain": [
       "12.289428452418381"
      ]
     },
     "execution_count": 168,
     "metadata": {},
     "output_type": "execute_result"
    }
   ],
   "source": [
    "df_bike_clean_2019.duration_min.mean()"
   ]
  },
  {
   "cell_type": "code",
   "execution_count": 174,
   "metadata": {},
   "outputs": [
    {
     "data": {
      "image/png": "[encoded data removed]",
      "text/plain": [
       "<Figure size 720x432 with 1 Axes>"
      ]
     },
     "metadata": {
      "needs_background": "light"
     },
     "output_type": "display_data"
    }
   ],
   "source": [
    "# Duration of the bike rides - in MINUTES\n",
    "bin_edges = np.arange(0, 60, 1)\n",
    "ticks = [0, 5, 10, 15, 20, 25, 30,  35, 40, 45,50,55,60]\n",
    "labels = ['{}'.format(val) for val in ticks]\n",
    "\n",
    "plt.figure(figsize=[10, 6]);\n",
    "plt.hist(data = df_bike_clean_2019, x = 'duration_min', bins = bin_edges, rwidth = 0.6);\n",
    "\n",
    "plt.title(\"Ford GoBike System Trip Duration in Minutes - 2019\", y=1.02, fontsize=12, fontweight='bold')\n",
    "plt.xlabel('Duration in Minutes')\n",
    "plt.xticks(ticks, labels)\n",
    "plt.ylabel('Number of Bike Trips');"
   ]
  },
  {
   "cell_type": "markdown",
   "metadata": {},
   "source": [
    "The average trip duration is approx. 12 minutes. 75% of the trips has duration less than 13 minutes. The histogram shows that most trips were taken in the duration of 4- 11 minutes  which shows that the rides were taken for smaller distances."
   ]
  },
  {
   "cell_type": "code",
   "execution_count": 58,
   "metadata": {},
   "outputs": [
    {
     "data": {
      "text/html": [
       "<div>\n",
       "<style scoped>\n",
       "    .dataframe tbody tr th:only-of-type {\n",
       "        vertical-align: middle;\n",
       "    }\n",
       "\n",
       "    .dataframe tbody tr th {\n",
       "        vertical-align: top;\n",
       "    }\n",
       "\n",
       "    .dataframe thead th {\n",
       "        text-align: right;\n",
       "    }\n",
       "</style>\n",
       "<table border=\"1\" class=\"dataframe\">\n",
       "  <thead>\n",
       "    <tr style=\"text-align: right;\">\n",
       "      <th></th>\n",
       "      <th>duration_sec</th>\n",
       "      <th>start_time</th>\n",
       "      <th>end_time</th>\n",
       "      <th>start_station_id</th>\n",
       "      <th>start_station_name</th>\n",
       "      <th>start_station_latitude</th>\n",
       "      <th>start_station_longitude</th>\n",
       "      <th>end_station_id</th>\n",
       "      <th>end_station_name</th>\n",
       "      <th>end_station_latitude</th>\n",
       "      <th>end_station_longitude</th>\n",
       "      <th>bike_id</th>\n",
       "      <th>user_type</th>\n",
       "      <th>start_time_year</th>\n",
       "      <th>start_time_month_no</th>\n",
       "      <th>start_time_month</th>\n",
       "      <th>start_time_weekday</th>\n",
       "      <th>duration_min</th>\n",
       "      <th>start_time_hour</th>\n",
       "      <th>end_time_hour</th>\n",
       "    </tr>\n",
       "  </thead>\n",
       "  <tbody>\n",
       "    <tr>\n",
       "      <th>0</th>\n",
       "      <td>83118</td>\n",
       "      <td>2020-01-31 15:23:47.733</td>\n",
       "      <td>2020-02-01 14:29:06.263</td>\n",
       "      <td>400.0</td>\n",
       "      <td>Buchanan St at North Point St</td>\n",
       "      <td>37.804272</td>\n",
       "      <td>-122.433537</td>\n",
       "      <td>400.0</td>\n",
       "      <td>Buchanan St at North Point St</td>\n",
       "      <td>37.804272</td>\n",
       "      <td>-122.433537</td>\n",
       "      <td>13052</td>\n",
       "      <td>Customer</td>\n",
       "      <td>2020</td>\n",
       "      <td>1</td>\n",
       "      <td>January</td>\n",
       "      <td>Fri</td>\n",
       "      <td>1385</td>\n",
       "      <td>15</td>\n",
       "      <td>14</td>\n",
       "    </tr>\n",
       "    <tr>\n",
       "      <th>1</th>\n",
       "      <td>68239</td>\n",
       "      <td>2020-01-31 15:40:31.616</td>\n",
       "      <td>2020-02-01 10:37:51.000</td>\n",
       "      <td>99.0</td>\n",
       "      <td>Folsom St at 15th St</td>\n",
       "      <td>37.767037</td>\n",
       "      <td>-122.415443</td>\n",
       "      <td>99.0</td>\n",
       "      <td>Folsom St at 15th St</td>\n",
       "      <td>37.767037</td>\n",
       "      <td>-122.415443</td>\n",
       "      <td>12235</td>\n",
       "      <td>Subscriber</td>\n",
       "      <td>2020</td>\n",
       "      <td>1</td>\n",
       "      <td>January</td>\n",
       "      <td>Fri</td>\n",
       "      <td>1137</td>\n",
       "      <td>15</td>\n",
       "      <td>10</td>\n",
       "    </tr>\n",
       "    <tr>\n",
       "      <th>2</th>\n",
       "      <td>55407</td>\n",
       "      <td>2020-01-31 17:48:16.635</td>\n",
       "      <td>2020-02-01 09:11:44.317</td>\n",
       "      <td>197.0</td>\n",
       "      <td>El Embarcadero at Grand Ave</td>\n",
       "      <td>37.808848</td>\n",
       "      <td>-122.249680</td>\n",
       "      <td>197.0</td>\n",
       "      <td>El Embarcadero at Grand Ave</td>\n",
       "      <td>37.808848</td>\n",
       "      <td>-122.249680</td>\n",
       "      <td>12822</td>\n",
       "      <td>Customer</td>\n",
       "      <td>2020</td>\n",
       "      <td>1</td>\n",
       "      <td>January</td>\n",
       "      <td>Fri</td>\n",
       "      <td>923</td>\n",
       "      <td>17</td>\n",
       "      <td>9</td>\n",
       "    </tr>\n",
       "    <tr>\n",
       "      <th>3</th>\n",
       "      <td>54929</td>\n",
       "      <td>2020-01-31 17:53:03.413</td>\n",
       "      <td>2020-02-01 09:08:32.634</td>\n",
       "      <td>197.0</td>\n",
       "      <td>El Embarcadero at Grand Ave</td>\n",
       "      <td>37.808848</td>\n",
       "      <td>-122.249680</td>\n",
       "      <td>197.0</td>\n",
       "      <td>El Embarcadero at Grand Ave</td>\n",
       "      <td>37.808848</td>\n",
       "      <td>-122.249680</td>\n",
       "      <td>11705</td>\n",
       "      <td>Customer</td>\n",
       "      <td>2020</td>\n",
       "      <td>1</td>\n",
       "      <td>January</td>\n",
       "      <td>Fri</td>\n",
       "      <td>915</td>\n",
       "      <td>17</td>\n",
       "      <td>9</td>\n",
       "    </tr>\n",
       "    <tr>\n",
       "      <th>4</th>\n",
       "      <td>55700</td>\n",
       "      <td>2020-01-31 17:12:33.460</td>\n",
       "      <td>2020-02-01 08:40:53.646</td>\n",
       "      <td>12.0</td>\n",
       "      <td>Pier 1/2 at The Embarcadero</td>\n",
       "      <td>37.796389</td>\n",
       "      <td>-122.394586</td>\n",
       "      <td>371.0</td>\n",
       "      <td>Lombard St at Columbus Ave</td>\n",
       "      <td>37.802746</td>\n",
       "      <td>-122.413579</td>\n",
       "      <td>3673</td>\n",
       "      <td>Customer</td>\n",
       "      <td>2020</td>\n",
       "      <td>1</td>\n",
       "      <td>January</td>\n",
       "      <td>Fri</td>\n",
       "      <td>928</td>\n",
       "      <td>17</td>\n",
       "      <td>8</td>\n",
       "    </tr>\n",
       "  </tbody>\n",
       "</table>\n",
       "</div>"
      ],
      "text/plain": [
       "   duration_sec              start_time                end_time  \\\n",
       "0         83118 2020-01-31 15:23:47.733 2020-02-01 14:29:06.263   \n",
       "1         68239 2020-01-31 15:40:31.616 2020-02-01 10:37:51.000   \n",
       "2         55407 2020-01-31 17:48:16.635 2020-02-01 09:11:44.317   \n",
       "3         54929 2020-01-31 17:53:03.413 2020-02-01 09:08:32.634   \n",
       "4         55700 2020-01-31 17:12:33.460 2020-02-01 08:40:53.646   \n",
       "\n",
       "  start_station_id             start_station_name  start_station_latitude  \\\n",
       "0            400.0  Buchanan St at North Point St               37.804272   \n",
       "1             99.0           Folsom St at 15th St               37.767037   \n",
       "2            197.0    El Embarcadero at Grand Ave               37.808848   \n",
       "3            197.0    El Embarcadero at Grand Ave               37.808848   \n",
       "4             12.0    Pier 1/2 at The Embarcadero               37.796389   \n",
       "\n",
       "   start_station_longitude end_station_id               end_station_name  \\\n",
       "0              -122.433537          400.0  Buchanan St at North Point St   \n",
       "1              -122.415443           99.0           Folsom St at 15th St   \n",
       "2              -122.249680          197.0    El Embarcadero at Grand Ave   \n",
       "3              -122.249680          197.0    El Embarcadero at Grand Ave   \n",
       "4              -122.394586          371.0     Lombard St at Columbus Ave   \n",
       "\n",
       "   end_station_latitude  end_station_longitude bike_id   user_type  \\\n",
       "0             37.804272            -122.433537   13052    Customer   \n",
       "1             37.767037            -122.415443   12235  Subscriber   \n",
       "2             37.808848            -122.249680   12822    Customer   \n",
       "3             37.808848            -122.249680   11705    Customer   \n",
       "4             37.802746            -122.413579    3673    Customer   \n",
       "\n",
       "   start_time_year  start_time_month_no start_time_month start_time_weekday  \\\n",
       "0             2020                    1          January                Fri   \n",
       "1             2020                    1          January                Fri   \n",
       "2             2020                    1          January                Fri   \n",
       "3             2020                    1          January                Fri   \n",
       "4             2020                    1          January                Fri   \n",
       "\n",
       "   duration_min  start_time_hour  end_time_hour  \n",
       "0          1385               15             14  \n",
       "1          1137               15             10  \n",
       "2           923               17              9  \n",
       "3           915               17              9  \n",
       "4           928               17              8  "
      ]
     },
     "execution_count": 58,
     "metadata": {},
     "output_type": "execute_result"
    }
   ],
   "source": [
    "#loading cleaned dataset for the year 2019\n",
    "df_bike_clean_2020 = df_bike_clean.query('start_time_year == \"2020\"')\n",
    "df_bike_clean_2020.head()"
   ]
  },
  {
   "cell_type": "code",
   "execution_count": 175,
   "metadata": {},
   "outputs": [
    {
     "data": {
      "image/png": "[encoded data removed]",
      "text/plain": [
       "<Figure size 360x360 with 1 Axes>"
      ]
     },
     "metadata": {
      "needs_background": "light"
     },
     "output_type": "display_data"
    }
   ],
   "source": [
    "# Monthly usage of the Ford Go Bike system in the year 2020\n",
    "graph = sb.catplot(data = df_bike_clean_2020, x = 'start_time_month', kind = 'count', color = no_color, aspect = 1);\n",
    "\n",
    "graph.set_axis_labels('Month', 'Number of Bike Trips'),\n",
    "\n",
    "graph.fig.suptitle('Ford GoBike usage by Month - 2020', y = 1.0, fontsize = 12, fontweight = 'bold');\n",
    "\n",
    "graph.set_xticklabels();"
   ]
  },
  {
   "cell_type": "markdown",
   "metadata": {},
   "source": [
    "Unlike year 2019, February Month has the most number of trips while the March had the least. "
   ]
  },
  {
   "cell_type": "code",
   "execution_count": 176,
   "metadata": {},
   "outputs": [
    {
     "data": {
      "image/png": "[encoded data removed]",
      "text/plain": [
       "<Figure size 360x360 with 1 Axes>"
      ]
     },
     "metadata": {
      "needs_background": "light"
     },
     "output_type": "display_data"
    }
   ],
   "source": [
    "# Days usage of the Ford Go Bike system in the year 2019\n",
    "weekday = ['Mon', 'Tue', 'Wed', 'Thu', 'Fri', 'Sat', 'Sun']\n",
    "graph = sb.catplot(data = df_bike_clean_2020, x = 'start_time_weekday', kind = 'count', color = no_color, order = weekday);\n",
    "\n",
    "graph.set_axis_labels('Day of the week', 'Number of Bike Trips'),\n",
    "\n",
    "graph.fig.suptitle('Ford GoBike usage by Days - 2020', y = 1.02, fontsize = 12, fontweight = 'bold');\n",
    "\n",
    "graph.set_xticklabels();"
   ]
  },
  {
   "cell_type": "code",
   "execution_count": 177,
   "metadata": {},
   "outputs": [
    {
     "data": {
      "image/png": "[encoded data removed]",
      "text/plain": [
       "<Figure size 540x360 with 1 Axes>"
      ]
     },
     "metadata": {
      "needs_background": "light"
     },
     "output_type": "display_data"
    }
   ],
   "source": [
    "# Hourly usage of the Ford Go Bike System\n",
    "graph = sb.catplot(data = df_bike_clean_2020, x='start_time_hour', kind='count', color = no_color, aspect = 1.5)\n",
    "\n",
    "graph.set_axis_labels('Hours', 'Number of Bike Rides')\n",
    "\n",
    "graph.fig.suptitle('Ford GoBike usage by Hour - 2020', y=1.02, fontsize=12, fontweight='bold');"
   ]
  },
  {
   "cell_type": "code",
   "execution_count": 178,
   "metadata": {},
   "outputs": [
    {
     "data": {
      "text/plain": [
       "count    884811.000000\n",
       "mean         12.931363\n",
       "std          27.705039\n",
       "min           1.000000\n",
       "25%           6.000000\n",
       "50%           9.000000\n",
       "75%          15.000000\n",
       "max       13517.000000\n",
       "Name: duration_min, dtype: float64"
      ]
     },
     "execution_count": 178,
     "metadata": {},
     "output_type": "execute_result"
    }
   ],
   "source": [
    "df_bike_clean_2020.duration_min.describe(percentiles = [.95])\n",
    "df_bike_clean_2020.duration_min.describe()"
   ]
  },
  {
   "cell_type": "code",
   "execution_count": 179,
   "metadata": {},
   "outputs": [
    {
     "data": {
      "text/plain": [
       "12.931362743003874"
      ]
     },
     "execution_count": 179,
     "metadata": {},
     "output_type": "execute_result"
    }
   ],
   "source": [
    "df_bike_clean_2020.duration_min.mean()"
   ]
  },
  {
   "cell_type": "code",
   "execution_count": 180,
   "metadata": {},
   "outputs": [
    {
     "data": {
      "image/png": "[encoded data removed]",
      "text/plain": [
       "<Figure size 720x432 with 1 Axes>"
      ]
     },
     "metadata": {
      "needs_background": "light"
     },
     "output_type": "display_data"
    }
   ],
   "source": [
    "# Duration of the bike rides - in MINUTES\n",
    "bin_edges = np.arange(0, 60, 1)\n",
    "ticks = [0, 5, 10, 15, 20, 25, 30,  35, 40, 45,50,55,60]\n",
    "labels = ['{}'.format(val) for val in ticks]\n",
    "\n",
    "plt.figure(figsize=[10, 6]);\n",
    "plt.hist(data = df_bike_clean_2020, x = 'duration_min', bins = bin_edges, rwidth = 0.6);\n",
    "\n",
    "plt.title(\"Ford GoBike System Trip Duration in Minutes - 2020\", y=1.02, fontsize=12, fontweight='bold')\n",
    "plt.xlabel('Duration (Min)')\n",
    "plt.xticks(ticks, labels)\n",
    "plt.ylabel('Number of Bike Trips');"
   ]
  },
  {
   "cell_type": "markdown",
   "metadata": {},
   "source": [
    "The average trip duration is approx. 12.9 minutes. 75% of the trips has duration less than 15 minutes. The histogram shows that most trips were taken in the duration of 4- 12 minutes  which shows that the rides were taken for smaller distances."
   ]
  },
  {
   "cell_type": "markdown",
   "metadata": {},
   "source": [
    "### Bivariate Exploration"
   ]
  },
  {
   "cell_type": "code",
   "execution_count": 181,
   "metadata": {},
   "outputs": [
    {
     "data": {
      "image/png": "[encoded data removed]",
      "text/plain": [
       "<Figure size 504x360 with 2 Axes>"
      ]
     },
     "metadata": {
      "needs_background": "light"
     },
     "output_type": "display_data"
    }
   ],
   "source": [
    "# 2019 usage by month vs. 2020 usage by month\n",
    "graph = sb.catplot(data=df_bike_clean, x='start_time_month', col=\"start_time_year\", kind='count', sharey = True, color = no_color, aspect = 0.7);\n",
    "\n",
    "graph.set_axis_labels(\"Month\", \"Number of Bike Trips\");\n",
    "graph.set_titles(\"{col_name}\");\n",
    "\n",
    "graph.fig.suptitle('Ford GoBike usage by Month', y=1.02, fontsize=12, fontweight='bold');"
   ]
  },
  {
   "cell_type": "markdown",
   "metadata": {},
   "source": [
    "From the above figure, it is observed that there is major spike in the usage of the system in the month of Feb-2020 in copmarison with Feb-2019. The increase is more then double in comparison to Feb-2019. While the reversed is observed in the month of March. March-2020 had comparatively less no. of bike trips than March-2019."
   ]
  },
  {
   "cell_type": "code",
   "execution_count": 68,
   "metadata": {},
   "outputs": [
    {
     "data": {
      "text/plain": [
       "March       254567\n",
       "January     190350\n",
       "February    181680\n",
       "Name: start_time_month, dtype: int64"
      ]
     },
     "execution_count": 68,
     "metadata": {},
     "output_type": "execute_result"
    }
   ],
   "source": [
    "df_bike_clean_2019.start_time_month.value_counts()"
   ]
  },
  {
   "cell_type": "code",
   "execution_count": 184,
   "metadata": {},
   "outputs": [
    {
     "data": {
      "image/png": "[encoded data removed]",
      "text/plain": [
       "<Figure size 576x360 with 1 Axes>"
      ]
     },
     "metadata": {
      "needs_background": "light"
     },
     "output_type": "display_data"
    }
   ],
   "source": [
    "# weekly usage over the months January, February and March\n",
    "plt.figure(figsize=(8, 5))\n",
    "weekday = ['Mon', 'Tue', 'Wed', 'Thu', 'Fri', 'Sat', 'Sun']\n",
    "\n",
    "sb.countplot(data=df_bike_clean_2019, x='start_time_weekday', hue='start_time_month', order= weekday);\n",
    "plt.xlabel('Day of Week');\n",
    "plt.ylabel('Count');\n",
    "plt.title('Weekly usage over Months - 2019',y=1.02, fontsize=12, fontweight='bold');"
   ]
  },
  {
   "cell_type": "markdown",
   "metadata": {},
   "source": [
    "From the above graph, it is observed that the usage decreases over the weekend i.e Saturday and Sunday. While the usage seems to be consistent on weekdays. From this we can assume that major rides have been taken by the people for commuting to workplace."
   ]
  },
  {
   "cell_type": "code",
   "execution_count": 70,
   "metadata": {},
   "outputs": [
    {
     "data": {
      "text/plain": [
       "February    423081\n",
       "January     294122\n",
       "March       167608\n",
       "Name: start_time_month, dtype: int64"
      ]
     },
     "execution_count": 70,
     "metadata": {},
     "output_type": "execute_result"
    }
   ],
   "source": [
    "df_bike_clean_2020.start_time_month.value_counts()"
   ]
  },
  {
   "cell_type": "code",
   "execution_count": 185,
   "metadata": {},
   "outputs": [
    {
     "data": {
      "image/png": "[encoded data removed]",
      "text/plain": [
       "<Figure size 576x360 with 1 Axes>"
      ]
     },
     "metadata": {
      "needs_background": "light"
     },
     "output_type": "display_data"
    }
   ],
   "source": [
    "# weekly usage over the months January, February and March\n",
    "plt.figure(figsize=(8, 5))\n",
    "weekday = ['Mon', 'Tue', 'Wed', 'Thu', 'Fri', 'Sat', 'Sun']\n",
    "\n",
    "sb.countplot(data=df_bike_clean_2020, x='start_time_weekday', hue='start_time_month', order= weekday);\n",
    "plt.xlabel('Day of Week');\n",
    "plt.ylabel('Count');\n",
    "plt.title('Weekly usage over Months - 2020',y=1.02, fontsize=12, fontweight='bold');"
   ]
  },
  {
   "cell_type": "markdown",
   "metadata": {},
   "source": [
    "From the above figure, it is observed that:\n",
    "- January and February - Decrease in the usage over weekend\n",
    "- March - The usage seems pretty consistent from Mon-Sat. Decrease in the usage is observed on Sunday."
   ]
  },
  {
   "cell_type": "code",
   "execution_count": 186,
   "metadata": {},
   "outputs": [
    {
     "data": {
      "image/png": "[encoded data removed]",
      "text/plain": [
       "<Figure size 504x360 with 2 Axes>"
      ]
     },
     "metadata": {
      "needs_background": "light"
     },
     "output_type": "display_data"
    }
   ],
   "source": [
    "# Customer vs. Subscriber usage in the year 2019 and 2020\n",
    "graph = sb.catplot(data=df_bike_clean, x='start_time_year', col=\"user_type\", kind='count', sharey = True, color = no_color, aspect= 0.7);\n",
    "\n",
    "graph.set_axis_labels(\"Year\", \"Number of Bike Trips\");\n",
    "graph.set_titles(\"{col_name}\");\n",
    "\n",
    "graph.fig.suptitle('Ford GoBike System - Customers vs. Subscribers', y=1.05, fontsize=12, fontweight='bold');\n",
    "graph.set_xticklabels();"
   ]
  },
  {
   "cell_type": "markdown",
   "metadata": {},
   "source": [
    "The number of Customer taking trips in each year is much less than the number of Subscribers taking trips. \n",
    "While there is a major spike seen in the no. of customer trips in year 2020 to the year 2019, and this could be the reason that Saturdays seems to have more trips in the year 2020 while less trips in year 2019.\n",
    "\n",
    "Now let's look into the percentage of each user type i.e. Customer and Subscribers in each year"
   ]
  },
  {
   "cell_type": "code",
   "execution_count": 192,
   "metadata": {},
   "outputs": [
    {
     "data": {
      "image/png": "[encoded data removed]",
      "text/plain": [
       "<Figure size 576x360 with 1 Axes>"
      ]
     },
     "metadata": {},
     "output_type": "display_data"
    }
   ],
   "source": [
    "# Customers vs Subscribers percentage in the year 2019\n",
    "plt.figure(figsize=[8, 5]);\n",
    "\n",
    "sorted_value = df_bike_clean_2019.user_type.value_counts()/df_bike_clean_2019.shape[0];\n",
    "plt.title('Customers vs. Subscribers - 2019', fontsize=10, fontweight='bold')\n",
    "plt.pie(sorted_value, explode=[0, 0.1], labels=sorted_value.index, startangle=90, counterclock=False, autopct='%1.1f%%', shadow=True);\n",
    "plt.axis('square');"
   ]
  },
  {
   "cell_type": "markdown",
   "metadata": {},
   "source": [
    "The percentage of the customers i.e. 12.7% is very less as compared to the percentage of the Subscribers i.e. 87.3%."
   ]
  },
  {
   "cell_type": "code",
   "execution_count": 193,
   "metadata": {},
   "outputs": [
    {
     "data": {
      "image/png": "[encoded data removed]",
      "text/plain": [
       "<Figure size 576x360 with 1 Axes>"
      ]
     },
     "metadata": {},
     "output_type": "display_data"
    }
   ],
   "source": [
    "# Customers vs Subscribers percentage in the year 2020\n",
    "plt.figure(figsize=[8, 5]);\n",
    "\n",
    "sorted_value = df_bike_clean_2020.user_type.value_counts()/df_bike_clean_2020.shape[0];\n",
    "plt.title('Customers vs. Subscribers - 2020', fontsize=10, fontweight='bold')\n",
    "plt.pie(sorted_value, explode=[0, 0.1], labels=sorted_value.index, startangle=90, counterclock=False, autopct='%1.1f%%', shadow=True);\n",
    "plt.axis('square');"
   ]
  },
  {
   "cell_type": "markdown",
   "metadata": {},
   "source": [
    "There is no major differece seen in the percentage of Customers (40.1%) to the Subscribers (59.9%). "
   ]
  },
  {
   "cell_type": "markdown",
   "metadata": {},
   "source": [
    "### Exploration 2019 graphs"
   ]
  },
  {
   "cell_type": "code",
   "execution_count": 194,
   "metadata": {},
   "outputs": [
    {
     "data": {
      "image/png": "[encoded data removed]",
      "text/plain": [
       "<Figure size 504x360 with 2 Axes>"
      ]
     },
     "metadata": {
      "needs_background": "light"
     },
     "output_type": "display_data"
    }
   ],
   "source": [
    "# Customer Usage by Month vs. Subscriber Usage by Month\n",
    "graph = sb.catplot(data=df_bike_clean_2019, x='start_time_month', col=\"user_type\", kind='count', sharey = True, color = no_color, aspect = 0.7);\n",
    "\n",
    "graph.set_axis_labels(\"Month\", \"Number of Bike Trips\");\n",
    "graph.set_titles(\"{col_name}\");\n",
    "\n",
    "graph.fig.suptitle('Ford GoBike System - Customers vs. Subscribers - 2019', y=1.02, fontsize=12, fontweight='bold');\n",
    "graph.set_xticklabels();"
   ]
  },
  {
   "cell_type": "markdown",
   "metadata": {},
   "source": [
    "From the above figure, it is observed that over all 3 months, Subcribers are major users for the FordGo Bike System."
   ]
  },
  {
   "cell_type": "code",
   "execution_count": 195,
   "metadata": {},
   "outputs": [
    {
     "data": {
      "image/png": "[encoded data removed]",
      "text/plain": [
       "<Figure size 864x360 with 1 Axes>"
      ]
     },
     "metadata": {
      "needs_background": "light"
     },
     "output_type": "display_data"
    }
   ],
   "source": [
    "# Customer Usage by Weekday vs. Subscriber Usage by Weekday\n",
    "plt.figure(figsize=(12, 5))\n",
    "\n",
    "df_cleaned_user_week = df_bike_clean_2019.groupby(['start_time_weekday', 'user_type']).size().reset_index()\n",
    "weekday = ['Mon', 'Tue', 'Wed', 'Thu', 'Fri', 'Sat', 'Sun']\n",
    "\n",
    "ax = sb.pointplot(data=df_cleaned_user_week, x='start_time_weekday', y=0, hue = 'user_type', scale=.7, order = weekday);\n",
    "\n",
    "plt.title('Ford GoBike System Trends by User Type - 2019', y=1.05, fontsize=16, fontweight='bold')\n",
    "plt.xlabel('Weekdays')\n",
    "plt.ylabel('Number of Bike Trips');\n",
    "plt.grid()"
   ]
  },
  {
   "cell_type": "markdown",
   "metadata": {},
   "source": [
    "From the above graph, it is observed that there is a consistent usage over all days by the Customers with a little increase over the weekends. While for Subscibers, the maximum usage is over weekday i.e. Mon-Fri and the usage decreases over the weekend i.e Sat-Sun. From this, it can be said that Subscribers uses the system majorly to commute for work."
   ]
  },
  {
   "cell_type": "code",
   "execution_count": 198,
   "metadata": {},
   "outputs": [
    {
     "data": {
      "image/png": "[encoded data removed]",
      "text/plain": [
       "<Figure size 1440x360 with 2 Axes>"
      ]
     },
     "metadata": {
      "needs_background": "light"
     },
     "output_type": "display_data"
    }
   ],
   "source": [
    "# Customer Usage by Duration vs. Subscriber Usage by Duration\n",
    "\n",
    "data = df_bike_clean_2019.query('duration_min <= 30')\n",
    "\n",
    "graph = sb.catplot(data=data, x = 'duration_min', col='user_type', kind='count', sharey = False, color = no_color, height=5, aspect=2);\n",
    "\n",
    "graph.set_axis_labels('Duration (Min)', 'Number of Bike Trips')\n",
    "graph.set_titles('{col_name}')\n",
    "\n",
    "graph.fig.suptitle('Ford GoBike System - Customers vs. Subscribers Trip Duration in Minutes - 2019', y=1.05, fontsize=16, fontweight='bold');\n",
    "graph.set_xticklabels(rotation=75);"
   ]
  },
  {
   "cell_type": "markdown",
   "metadata": {},
   "source": [
    "### Exploration 2020 graphs"
   ]
  },
  {
   "cell_type": "code",
   "execution_count": 199,
   "metadata": {},
   "outputs": [
    {
     "data": {
      "image/png": "[encoded data removed]",
      "text/plain": [
       "<Figure size 504x360 with 2 Axes>"
      ]
     },
     "metadata": {
      "needs_background": "light"
     },
     "output_type": "display_data"
    }
   ],
   "source": [
    "# Customer Usage by Month vs. Subscriber Usage by Month\n",
    "graph = sb.catplot(data=df_bike_clean_2020, x='start_time_month', col=\"user_type\", kind='count', sharey = True, color = no_color, aspect = 0.7);\n",
    "\n",
    "graph.set_axis_labels(\"Month\", \"Number of Bike Trips\");\n",
    "graph.set_titles(\"{col_name}\");\n",
    "\n",
    "graph.fig.suptitle('Ford GoBike System - Customers vs. Subscribers - 2020', y=1.02, fontsize=12, fontweight='bold');\n",
    "graph.set_xticklabels();"
   ]
  },
  {
   "cell_type": "code",
   "execution_count": 201,
   "metadata": {},
   "outputs": [
    {
     "data": {
      "image/png": "[encoded data removed]",
      "text/plain": [
       "<Figure size 864x360 with 1 Axes>"
      ]
     },
     "metadata": {
      "needs_background": "light"
     },
     "output_type": "display_data"
    }
   ],
   "source": [
    "# Customer Usage by Weekday vs. Subscriber Usage by Weekday\n",
    "plt.figure(figsize=(12, 5))\n",
    "\n",
    "df_cleaned_user_week = df_bike_clean_2020.groupby(['start_time_weekday', 'user_type']).size().reset_index()\n",
    "weekday = ['Mon', 'Tue', 'Wed', 'Thu', 'Fri', 'Sat', 'Sun']\n",
    "\n",
    "ax = sb.pointplot(data=df_cleaned_user_week, x='start_time_weekday', y=0, hue = 'user_type', scale=.7, order = weekday);\n",
    "\n",
    "plt.title('Ford GoBike System Trends by User Type - 2020', y=1.05, fontsize=12, fontweight='bold')\n",
    "plt.xlabel('Weekdays')\n",
    "plt.ylabel('Number of Bike Trips');\n",
    "plt.grid()"
   ]
  },
  {
   "cell_type": "markdown",
   "metadata": {},
   "source": [
    "From the above graph, the similar usage pattern is seen for both Customer and Subscriber i.e maximum usage over weekdays Mon-Fri and the decrease is seen over weekend Sat-Sun. So it can be said that both the user types uses the system for commuting to workplace."
   ]
  },
  {
   "cell_type": "code",
   "execution_count": 202,
   "metadata": {},
   "outputs": [
    {
     "data": {
      "image/png": "[encoded data removed]",
      "text/plain": [
       "<Figure size 1440x360 with 2 Axes>"
      ]
     },
     "metadata": {
      "needs_background": "light"
     },
     "output_type": "display_data"
    }
   ],
   "source": [
    "# Customer Usage by Duration vs. Subscriber Usage by Duration\n",
    "\n",
    "data = df_bike_clean_2020.query('duration_min <= 30')\n",
    "\n",
    "graph = sb.catplot(data=data, x = 'duration_min', col='user_type', kind='count', sharey = False, color = no_color, height=5, aspect=2);\n",
    "graph.set_axis_labels('Duration (Min)', 'Number of Bike Trips')\n",
    "graph.set_titles('{col_name}')\n",
    "\n",
    "graph.fig.suptitle('Ford GoBike System - Customers vs. Subscribers Trip Duration in Minutes - 2020', y=1.05, fontsize=16, fontweight='bold');\n",
    "graph.set_xticklabels();"
   ]
  },
  {
   "cell_type": "markdown",
   "metadata": {},
   "source": [
    "## Multivariate Exploration"
   ]
  },
  {
   "cell_type": "code",
   "execution_count": 204,
   "metadata": {},
   "outputs": [
    {
     "data": {
      "image/png": "[encoded data removed]",
      "text/plain": [
       "<Figure size 1529.12x360 with 2 Axes>"
      ]
     },
     "metadata": {
      "needs_background": "light"
     },
     "output_type": "display_data"
    }
   ],
   "source": [
    "# Monthly usage - year and user type\n",
    "graph = sb.catplot(data=df_bike_clean, x='start_time_month', col=\"start_time_year\", hue=\"user_type\", kind='count', sharey = False, height=5, aspect=2);\n",
    "\n",
    "graph.set_axis_labels(\"Month\", \"Number of Bike Trips\")\n",
    "graph._legend.set_title('User Type')\n",
    "graph.set_titles(\"{col_name}\")\n",
    "\n",
    "graph.fig.suptitle('Ford GoBike System - Monthly usage per User Type and Year', y=1.05, fontsize=16, fontweight='bold');\n",
    "graph.set_xticklabels();"
   ]
  },
  {
   "cell_type": "code",
   "execution_count": 206,
   "metadata": {},
   "outputs": [
    {
     "data": {
      "image/png": "[encoded data removed]",
      "text/plain": [
       "<Figure size 809.125x360 with 1 Axes>"
      ]
     },
     "metadata": {
      "needs_background": "light"
     },
     "output_type": "display_data"
    }
   ],
   "source": [
    "# User type usage by Duration in Minutes\n",
    "data = df_bike_clean_2019.query('duration_min <= 30')\n",
    "graph = sb.catplot(data=data, x='duration_min', col=\"start_time_year\", hue=\"user_type\", kind='count', sharey = False, height=5, aspect=2);\n",
    "\n",
    "graph.set_axis_labels(\"Duration in Minutes\", \"Number of Bike Trips\")\n",
    "graph._legend.set_title('Month')\n",
    "graph.set_titles(\"{col_name}\")\n",
    "\n",
    "graph.fig.suptitle('Ford GoBike System - User Type Trip Duration in Minutes - 2019', y=1.02, fontsize=12, fontweight='bold');\n",
    "graph.set_xticklabels();"
   ]
  },
  {
   "cell_type": "code",
   "execution_count": 207,
   "metadata": {},
   "outputs": [
    {
     "data": {
      "image/png": "[encoded data removed]",
      "text/plain": [
       "<Figure size 809.125x360 with 1 Axes>"
      ]
     },
     "metadata": {
      "needs_background": "light"
     },
     "output_type": "display_data"
    }
   ],
   "source": [
    "# Mont# User type usage by Duration in Minutes\n",
    "data = df_bike_clean_2020.query('duration_min <= 30')\n",
    "graph = sb.catplot(data=data, x='duration_min', col=\"start_time_year\", hue=\"user_type\", kind='count', sharey = False, height=5, aspect=2);\n",
    "\n",
    "graph.set_axis_labels(\"Duration in Minutes\", \"Number of Bike Trips\")\n",
    "graph._legend.set_title('Month')\n",
    "graph.set_titles(\"{col_name}\")\n",
    "\n",
    "graph.fig.suptitle('Ford GoBike System - User Type Trip Duration in Minutes - 2020', y=1.02, fontsize=12, fontweight='bold');\n",
    "graph.set_xticklabels();"
   ]
  },
  {
   "cell_type": "code",
   "execution_count": null,
   "metadata": {},
   "outputs": [],
   "source": []
  }
 ],
 "metadata": {
  "kernelspec": {
   "display_name": "Python 3",
   "language": "python",
   "name": "python3"
  },
  "language_info": {
   "codemirror_mode": {
    "name": "ipython",
    "version": 3
   },
   "file_extension": ".py",
   "mimetype": "text/x-python",
   "name": "python",
   "nbconvert_exporter": "python",
   "pygments_lexer": "ipython3",
   "version": "3.7.6"
  }
 },
 "nbformat": 4,
 "nbformat_minor": 4
}
